{
 "cells": [
  {
   "cell_type": "markdown",
   "metadata": {},
   "source": [
    "## Fairness in Classification and Representation Learning\n",
    "\n",
    "The assignment is about building a fairness classifier for the adult dataset.\n",
    "This dataset is given in three folder:\n",
    "\n",
    "    • adult.data - training set\n",
    "\n",
    "    • adult.test - test set\n",
    "    • adult.names - information about the data\n",
    "    \n",
    "the preprocessing data is composed by :\n",
    "\n",
    "    • adult train.npz - training data, 32561 examples by 113 attributes\n",
    "    • adult test.npz - testing data, 16281 examples\n",
    "    • adult headers.txt - a list of column names for the pre-processed dataset,\n",
    "    \n",
    "      indicating what each feature represents. The final entry is “income”, which\n",
    "      is the label but is not in the features X. The labels , the features are\n",
    "      separated array from the data x for the adult t rain and adult test.\n",
    "      \n",
    "So,We did some processing to build a Train data and test data with all\n",
    "the features"
   ]
  },
  {
   "cell_type": "code",
   "execution_count": 1,
   "metadata": {},
   "outputs": [],
   "source": [
    "import numpy             as np\n",
    "import pandas            as pd\n",
    "import matplotlib\n",
    "import matplotlib.pyplot as plt\n",
    "import seaborn           as sns"
   ]
  },
  {
   "cell_type": "code",
   "execution_count": 2,
   "metadata": {},
   "outputs": [],
   "source": [
    "np.random.seed(12345)"
   ]
  },
  {
   "cell_type": "code",
   "execution_count": 3,
   "metadata": {},
   "outputs": [],
   "source": [
    "import warnings\n",
    "warnings.filterwarnings('ignore')\n",
    "%matplotlib inline"
   ]
  },
  {
   "cell_type": "markdown",
   "metadata": {},
   "source": [
    "### 1. Preliminaries"
   ]
  },
  {
   "cell_type": "markdown",
   "metadata": {},
   "source": [
    "- Loading the data"
   ]
  },
  {
   "cell_type": "code",
   "execution_count": 4,
   "metadata": {},
   "outputs": [],
   "source": [
    "x = np.load('adult/adult_train/x.npy')\n",
    "y = np.load('adult/adult_train/y.npy')\n",
    "A = np.load('adult/adult_train/a.npy')\n",
    "x_test=np.load('adult/adult_test/x.npy')\n",
    "y_test=np.load('adult/adult_test/y.npy')\n",
    "A_test=np.load('adult/adult_test/a.npy')\n",
    "#concatenate the  data and the label\n",
    "Train_data=np.hstack((x,y))\n",
    "Test_data=np.hstack((x_test,y_test))\n",
    "#Getting the features and get the full dataset\n",
    "features =[y for y in open(\"adult/adult_headers.txt\", \"r\")]\n",
    "Train_data=pd.DataFrame(Train_data,columns=features)\n",
    "Test_data=pd.DataFrame(Test_data,columns=features)\n",
    "#Save the data to a variable that will be used if we need the original version of the dataset\n",
    "adult_data=Train_data.copy()\n",
    "adult_data_test=Test_data.copy()\n",
    "#Datasetwith the sensible attribute A\n",
    "adult_data[\"A\"]=A"
   ]
  },
  {
   "cell_type": "code",
   "execution_count": 5,
   "metadata": {},
   "outputs": [],
   "source": [
    "#Test_data"
   ]
  },
  {
   "cell_type": "code",
   "execution_count": 6,
   "metadata": {},
   "outputs": [
    {
     "data": {
      "text/html": [
       "<div>\n",
       "<style scoped>\n",
       "    .dataframe tbody tr th:only-of-type {\n",
       "        vertical-align: middle;\n",
       "    }\n",
       "\n",
       "    .dataframe tbody tr th {\n",
       "        vertical-align: top;\n",
       "    }\n",
       "\n",
       "    .dataframe thead th {\n",
       "        text-align: right;\n",
       "    }\n",
       "</style>\n",
       "<table border=\"1\" class=\"dataframe\">\n",
       "  <thead>\n",
       "    <tr style=\"text-align: right;\">\n",
       "      <th></th>\n",
       "      <th>age_u20</th>\n",
       "      <th>age_u30</th>\n",
       "      <th>age_u40</th>\n",
       "      <th>age_u50</th>\n",
       "      <th>age_u60</th>\n",
       "      <th>age_u70</th>\n",
       "      <th>age_u80</th>\n",
       "      <th>workclass_Private</th>\n",
       "      <th>workclass_Self-emp-not-inc</th>\n",
       "      <th>workclass_Self-emp-inc</th>\n",
       "      <th>...</th>\n",
       "      <th>country_Scotland</th>\n",
       "      <th>country_Thailand</th>\n",
       "      <th>country_Yugoslavia</th>\n",
       "      <th>country_El-Salvador</th>\n",
       "      <th>country_Trinadad&amp;Tobago</th>\n",
       "      <th>country_Peru</th>\n",
       "      <th>country_Hong</th>\n",
       "      <th>country_Holand-Netherlands</th>\n",
       "      <th>country_?</th>\n",
       "      <th>income</th>\n",
       "    </tr>\n",
       "  </thead>\n",
       "  <tbody>\n",
       "    <tr>\n",
       "      <th>0</th>\n",
       "      <td>1.0</td>\n",
       "      <td>0.0</td>\n",
       "      <td>0.0</td>\n",
       "      <td>0.0</td>\n",
       "      <td>0.0</td>\n",
       "      <td>0.0</td>\n",
       "      <td>0.0</td>\n",
       "      <td>1.0</td>\n",
       "      <td>0.0</td>\n",
       "      <td>0.0</td>\n",
       "      <td>...</td>\n",
       "      <td>0.0</td>\n",
       "      <td>0.0</td>\n",
       "      <td>0.0</td>\n",
       "      <td>0.0</td>\n",
       "      <td>0.0</td>\n",
       "      <td>0.0</td>\n",
       "      <td>0.0</td>\n",
       "      <td>0.0</td>\n",
       "      <td>0.0</td>\n",
       "      <td>0.0</td>\n",
       "    </tr>\n",
       "    <tr>\n",
       "      <th>1</th>\n",
       "      <td>0.0</td>\n",
       "      <td>1.0</td>\n",
       "      <td>0.0</td>\n",
       "      <td>0.0</td>\n",
       "      <td>0.0</td>\n",
       "      <td>0.0</td>\n",
       "      <td>0.0</td>\n",
       "      <td>1.0</td>\n",
       "      <td>0.0</td>\n",
       "      <td>0.0</td>\n",
       "      <td>...</td>\n",
       "      <td>0.0</td>\n",
       "      <td>0.0</td>\n",
       "      <td>0.0</td>\n",
       "      <td>0.0</td>\n",
       "      <td>0.0</td>\n",
       "      <td>0.0</td>\n",
       "      <td>0.0</td>\n",
       "      <td>0.0</td>\n",
       "      <td>0.0</td>\n",
       "      <td>0.0</td>\n",
       "    </tr>\n",
       "    <tr>\n",
       "      <th>2</th>\n",
       "      <td>0.0</td>\n",
       "      <td>0.0</td>\n",
       "      <td>0.0</td>\n",
       "      <td>0.0</td>\n",
       "      <td>1.0</td>\n",
       "      <td>0.0</td>\n",
       "      <td>0.0</td>\n",
       "      <td>0.0</td>\n",
       "      <td>0.0</td>\n",
       "      <td>0.0</td>\n",
       "      <td>...</td>\n",
       "      <td>0.0</td>\n",
       "      <td>0.0</td>\n",
       "      <td>0.0</td>\n",
       "      <td>0.0</td>\n",
       "      <td>0.0</td>\n",
       "      <td>0.0</td>\n",
       "      <td>0.0</td>\n",
       "      <td>0.0</td>\n",
       "      <td>0.0</td>\n",
       "      <td>1.0</td>\n",
       "    </tr>\n",
       "    <tr>\n",
       "      <th>3</th>\n",
       "      <td>0.0</td>\n",
       "      <td>0.0</td>\n",
       "      <td>0.0</td>\n",
       "      <td>1.0</td>\n",
       "      <td>0.0</td>\n",
       "      <td>0.0</td>\n",
       "      <td>0.0</td>\n",
       "      <td>0.0</td>\n",
       "      <td>0.0</td>\n",
       "      <td>0.0</td>\n",
       "      <td>...</td>\n",
       "      <td>0.0</td>\n",
       "      <td>0.0</td>\n",
       "      <td>0.0</td>\n",
       "      <td>0.0</td>\n",
       "      <td>0.0</td>\n",
       "      <td>0.0</td>\n",
       "      <td>0.0</td>\n",
       "      <td>0.0</td>\n",
       "      <td>0.0</td>\n",
       "      <td>1.0</td>\n",
       "    </tr>\n",
       "  </tbody>\n",
       "</table>\n",
       "<p>4 rows × 114 columns</p>\n",
       "</div>"
      ],
      "text/plain": [
       "   age_u20\\n  age_u30\\n  age_u40\\n  age_u50\\n  age_u60\\n  age_u70\\n  \\\n",
       "0        1.0        0.0        0.0        0.0        0.0        0.0   \n",
       "1        0.0        1.0        0.0        0.0        0.0        0.0   \n",
       "2        0.0        0.0        0.0        0.0        1.0        0.0   \n",
       "3        0.0        0.0        0.0        1.0        0.0        0.0   \n",
       "\n",
       "   age_u80\\n  workclass_Private\\n  workclass_Self-emp-not-inc\\n  \\\n",
       "0        0.0                  1.0                           0.0   \n",
       "1        0.0                  1.0                           0.0   \n",
       "2        0.0                  0.0                           0.0   \n",
       "3        0.0                  0.0                           0.0   \n",
       "\n",
       "   workclass_Self-emp-inc\\n    ...     country_Scotland\\n  country_Thailand\\n  \\\n",
       "0                       0.0    ...                    0.0                 0.0   \n",
       "1                       0.0    ...                    0.0                 0.0   \n",
       "2                       0.0    ...                    0.0                 0.0   \n",
       "3                       0.0    ...                    0.0                 0.0   \n",
       "\n",
       "   country_Yugoslavia\\n  country_El-Salvador\\n  country_Trinadad&Tobago\\n  \\\n",
       "0                   0.0                    0.0                        0.0   \n",
       "1                   0.0                    0.0                        0.0   \n",
       "2                   0.0                    0.0                        0.0   \n",
       "3                   0.0                    0.0                        0.0   \n",
       "\n",
       "   country_Peru\\n  country_Hong\\n  country_Holand-Netherlands\\n  country_?\\n  \\\n",
       "0             0.0             0.0                           0.0          0.0   \n",
       "1             0.0             0.0                           0.0          0.0   \n",
       "2             0.0             0.0                           0.0          0.0   \n",
       "3             0.0             0.0                           0.0          0.0   \n",
       "\n",
       "   income\\n  \n",
       "0       0.0  \n",
       "1       0.0  \n",
       "2       1.0  \n",
       "3       1.0  \n",
       "\n",
       "[4 rows x 114 columns]"
      ]
     },
     "execution_count": 6,
     "metadata": {},
     "output_type": "execute_result"
    }
   ],
   "source": [
    "Train_data.head(4)"
   ]
  },
  {
   "cell_type": "markdown",
   "metadata": {},
   "source": [
    "- Label checking"
   ]
  },
  {
   "cell_type": "code",
   "execution_count": 7,
   "metadata": {},
   "outputs": [
    {
     "data": {
      "image/png": "[encoded data removed]",
      "text/plain": [
       "<Figure size 432x288 with 1 Axes>"
      ]
     },
     "metadata": {},
     "output_type": "display_data"
    }
   ],
   "source": [
    "Train_data[\"income\\n\"].value_counts().plot.pie()\n",
    "plt.savefig('label.png', dpi= 500 )\n",
    "plt.show()"
   ]
  },
  {
   "cell_type": "code",
   "execution_count": 8,
   "metadata": {},
   "outputs": [
    {
     "data": {
      "text/plain": [
       "0.0    24720\n",
       "1.0     7841\n",
       "Name: income\\n, dtype: int64"
      ]
     },
     "execution_count": 8,
     "metadata": {},
     "output_type": "execute_result"
    }
   ],
   "source": [
    "Train_data[\"income\\n\"].value_counts()"
   ]
  },
  {
   "cell_type": "markdown",
   "metadata": {},
   "source": [
    "   The label of the training data is highly imbalanced"
   ]
  },
  {
   "cell_type": "markdown",
   "metadata": {},
   "source": [
    "- Definition of the metrics"
   ]
  },
  {
   "cell_type": "code",
   "execution_count": 9,
   "metadata": {},
   "outputs": [],
   "source": [
    "def accuracy(y, predictions):\n",
    "    y=np.array(y)\n",
    "    count = 0 \n",
    "    for i in range(len(y)):\n",
    "        if y[i]==predictions[i]:\n",
    "            count += 1\n",
    "    return count/len(y) "
   ]
  },
  {
   "cell_type": "code",
   "execution_count": 10,
   "metadata": {},
   "outputs": [],
   "source": [
    "#reweighted accuracy (R) of a classifier as the mean accuracy normalized by the size of the two groups\n",
    "def reweighted_accuracy(A,y,predictions):\n",
    "    count0 = count1= 0\n",
    "    nA_one = np.count_nonzero(A)\n",
    "    nA_zero = len(A)-nA_one\n",
    "    for i in range(len(A)):\n",
    "        if y[i]==predictions[i] and A[i]==0:\n",
    "            count0 += 1\n",
    "        if A[i]==predictions[i] and A[i]==1:\n",
    "            count1 +=1 \n",
    "            \n",
    "    return 0.5*((1/nA_zero)*count0 + (1/nA_one)*count1)"
   ]
  },
  {
   "cell_type": "code",
   "execution_count": 11,
   "metadata": {},
   "outputs": [],
   "source": [
    "#fairness metric ∆ DP , which measures the demographic parity (DP) :\n",
    "def DP(A, predictions):\n",
    "    A=np.array(A)\n",
    "    count0 = count1 = 0\n",
    "    nA_one = np.count_nonzero(A)\n",
    "    nA_zero = len(A)-nA_one\n",
    "    for i in range(len(A)):\n",
    "        count0 += predictions[i] * (1- A[i])\n",
    "        count1 += predictions[i] * A[i]\n",
    "#     print('count 1: ', count0)\n",
    "#     print('count 2: ', count1)\n",
    "    \n",
    "    return np.abs((count0/nA_zero) - (count1/nA_one))"
   ]
  },
  {
   "cell_type": "markdown",
   "metadata": {},
   "source": [
    "### 2. Classification"
   ]
  },
  {
   "cell_type": "markdown",
   "metadata": {},
   "source": [
    "### 2 - 1) Features Correlation"
   ]
  },
  {
   "cell_type": "markdown",
   "metadata": {},
   "source": [
    "- Most correlated feature to income\n",
    "\n",
    "Using Pearson correlation to determine the 10 most correlated future with label Y and the sensible attribute A"
   ]
  },
  {
   "cell_type": "code",
   "execution_count": 12,
   "metadata": {},
   "outputs": [
    {
     "data": {
      "image/png": "[encoded data removed]",
      "text/plain": [
       "<Figure size 1080x1080 with 2 Axes>"
      ]
     },
     "metadata": {},
     "output_type": "display_data"
    }
   ],
   "source": [
    "corrmat=adult_data.corr()\n",
    "plt.figure(figsize=(15, 15))\n",
    "sns.heatmap(corrmat,vmax=.8, square=True,cmap='viridis',linecolor=\"white\");\n",
    "plt.savefig('correlation.png', dpi= 500 )"
   ]
  },
  {
   "cell_type": "code",
   "execution_count": 13,
   "metadata": {},
   "outputs": [
    {
     "name": "stdout",
     "output_type": "stream",
     "text": [
      "\n",
      " The 10 most correlated features with Y are:\n"
     ]
    },
    {
     "data": {
      "text/html": [
       "<div>\n",
       "<style scoped>\n",
       "    .dataframe tbody tr th:only-of-type {\n",
       "        vertical-align: middle;\n",
       "    }\n",
       "\n",
       "    .dataframe tbody tr th {\n",
       "        vertical-align: top;\n",
       "    }\n",
       "\n",
       "    .dataframe thead th {\n",
       "        text-align: right;\n",
       "    }\n",
       "</style>\n",
       "<table border=\"1\" class=\"dataframe\">\n",
       "  <thead>\n",
       "    <tr style=\"text-align: right;\">\n",
       "      <th></th>\n",
       "      <th>income</th>\n",
       "    </tr>\n",
       "  </thead>\n",
       "  <tbody>\n",
       "    <tr>\n",
       "      <th>marital-status_Married-civ-spouse\\n</th>\n",
       "      <td>0.444696</td>\n",
       "    </tr>\n",
       "    <tr>\n",
       "      <th>relationship_Husband\\n</th>\n",
       "      <td>0.401035</td>\n",
       "    </tr>\n",
       "    <tr>\n",
       "      <th>education_num\\n</th>\n",
       "      <td>0.335154</td>\n",
       "    </tr>\n",
       "    <tr>\n",
       "      <th>marital-status_Never-married\\n</th>\n",
       "      <td>0.318440</td>\n",
       "    </tr>\n",
       "    <tr>\n",
       "      <th>age_u30\\n</th>\n",
       "      <td>0.238133</td>\n",
       "    </tr>\n",
       "    <tr>\n",
       "      <th>hours-per-week\\n</th>\n",
       "      <td>0.229689</td>\n",
       "    </tr>\n",
       "    <tr>\n",
       "      <th>relationship_Own-child\\n</th>\n",
       "      <td>0.228532</td>\n",
       "    </tr>\n",
       "    <tr>\n",
       "      <th>capital-gain\\n</th>\n",
       "      <td>0.223329</td>\n",
       "    </tr>\n",
       "    <tr>\n",
       "      <th>sex_Male\\n</th>\n",
       "      <td>0.215980</td>\n",
       "    </tr>\n",
       "    <tr>\n",
       "      <th>sex_Female\\n</th>\n",
       "      <td>0.215980</td>\n",
       "    </tr>\n",
       "  </tbody>\n",
       "</table>\n",
       "</div>"
      ],
      "text/plain": [
       "                                     income\\n\n",
       "marital-status_Married-civ-spouse\\n  0.444696\n",
       "relationship_Husband\\n               0.401035\n",
       "education_num\\n                      0.335154\n",
       "marital-status_Never-married\\n       0.318440\n",
       "age_u30\\n                            0.238133\n",
       "hours-per-week\\n                     0.229689\n",
       "relationship_Own-child\\n             0.228532\n",
       "capital-gain\\n                       0.223329\n",
       "sex_Male\\n                           0.215980\n",
       "sex_Female\\n                         0.215980"
      ]
     },
     "execution_count": 13,
     "metadata": {},
     "output_type": "execute_result"
    }
   ],
   "source": [
    "corr_val=pd.DataFrame(np.abs(corrmat['income\\n']))\n",
    "corr=corr_val.sort_values(by='income\\n',ascending=False) # We have the correlation in descending order and the first row is the variable y itself\n",
    "ten_most=corr[1:11]\n",
    "print(\"\\n The 10 most correlated features with Y are:\")\n",
    "ten_most"
   ]
  },
  {
   "cell_type": "markdown",
   "metadata": {},
   "source": [
    "- Most correlated feature to the sensitive attribute A= \"sex_Male\""
   ]
  },
  {
   "cell_type": "code",
   "execution_count": 15,
   "metadata": {},
   "outputs": [
    {
     "name": "stdout",
     "output_type": "stream",
     "text": [
      "\n",
      " The 10 most correlated features with sencible attribute A are:\n"
     ]
    },
    {
     "data": {
      "text/html": [
       "<div>\n",
       "<style scoped>\n",
       "    .dataframe tbody tr th:only-of-type {\n",
       "        vertical-align: middle;\n",
       "    }\n",
       "\n",
       "    .dataframe tbody tr th {\n",
       "        vertical-align: top;\n",
       "    }\n",
       "\n",
       "    .dataframe thead th {\n",
       "        text-align: right;\n",
       "    }\n",
       "</style>\n",
       "<table border=\"1\" class=\"dataframe\">\n",
       "  <thead>\n",
       "    <tr style=\"text-align: right;\">\n",
       "      <th></th>\n",
       "      <th>A</th>\n",
       "    </tr>\n",
       "  </thead>\n",
       "  <tbody>\n",
       "    <tr>\n",
       "      <th>sex_Female\\n</th>\n",
       "      <td>1.000000</td>\n",
       "    </tr>\n",
       "    <tr>\n",
       "      <th>sex_Male\\n</th>\n",
       "      <td>1.000000</td>\n",
       "    </tr>\n",
       "    <tr>\n",
       "      <th>relationship_Husband\\n</th>\n",
       "      <td>0.580135</td>\n",
       "    </tr>\n",
       "    <tr>\n",
       "      <th>marital-status_Married-civ-spouse\\n</th>\n",
       "      <td>0.431805</td>\n",
       "    </tr>\n",
       "    <tr>\n",
       "      <th>relationship_Unmarried\\n</th>\n",
       "      <td>0.321273</td>\n",
       "    </tr>\n",
       "    <tr>\n",
       "      <th>relationship_Wife\\n</th>\n",
       "      <td>0.319311</td>\n",
       "    </tr>\n",
       "    <tr>\n",
       "      <th>occupation_Adm-clerical\\n</th>\n",
       "      <td>0.263148</td>\n",
       "    </tr>\n",
       "    <tr>\n",
       "      <th>hours-per-week\\n</th>\n",
       "      <td>0.229309</td>\n",
       "    </tr>\n",
       "    <tr>\n",
       "      <th>marital-status_Divorced\\n</th>\n",
       "      <td>0.228621</td>\n",
       "    </tr>\n",
       "    <tr>\n",
       "      <th>occupation_Craft-repair\\n</th>\n",
       "      <td>0.223128</td>\n",
       "    </tr>\n",
       "  </tbody>\n",
       "</table>\n",
       "</div>"
      ],
      "text/plain": [
       "                                            A\n",
       "sex_Female\\n                         1.000000\n",
       "sex_Male\\n                           1.000000\n",
       "relationship_Husband\\n               0.580135\n",
       "marital-status_Married-civ-spouse\\n  0.431805\n",
       "relationship_Unmarried\\n             0.321273\n",
       "relationship_Wife\\n                  0.319311\n",
       "occupation_Adm-clerical\\n            0.263148\n",
       "hours-per-week\\n                     0.229309\n",
       "marital-status_Divorced\\n            0.228621\n",
       "occupation_Craft-repair\\n            0.223128"
      ]
     },
     "execution_count": 15,
     "metadata": {},
     "output_type": "execute_result"
    }
   ],
   "source": [
    "corr_valA=pd.DataFrame(np.abs(corrmat['A']))\n",
    "corrA=corr_valA.sort_values(by='A',ascending=False) # We have the correlation in descending order and the first row is the variable y itself\n",
    "ten_mostA=corrA[1:11]\n",
    "print(\"\\n The 10 most correlated features with sencible attribute A are:\")\n",
    "ten_mostA"
   ]
  },
  {
   "cell_type": "markdown",
   "metadata": {},
   "source": [
    "###  2 - 2 ) Binary Classifier for Prediction"
   ]
  },
  {
   "cell_type": "code",
   "execution_count": 17,
   "metadata": {},
   "outputs": [],
   "source": [
    "from sklearn.model_selection import train_test_split\n",
    "from sklearn                 import metrics\n",
    "from sklearn.metrics         import confusion_matrix"
   ]
  },
  {
   "cell_type": "code",
   "execution_count": 18,
   "metadata": {},
   "outputs": [],
   "source": [
    "#Remove the label of the data\n",
    "Train_data.drop(['income\\n'], axis = 1, inplace = True, errors = 'ignore')\n",
    "Test_data.drop(['income\\n'], axis = 1, inplace = True, errors = 'ignore')\n",
    "Train_data.to_csv(\"training_data.csv\",index=False)\n",
    "Test_data.to_csv(\"test_data.csv\",index=False)\n",
    "#Splitting the data into train and validation set\n",
    "x_train,x_val,y_train,y_val=train_test_split(Train_data,y, test_size = 0.2)"
   ]
  },
  {
   "cell_type": "code",
   "execution_count": 19,
   "metadata": {},
   "outputs": [],
   "source": [
    "# from sklearn.ensemble import RandomForestClassifier\n",
    "# cf=RandomForestClassifier()\n",
    "# cf=cf.fit(x_train,y_train)\n",
    "# y_hat=cf.predict(Test_data)\n",
    "# accuracy(y_test, y_hat)"
   ]
  },
  {
   "cell_type": "markdown",
   "metadata": {},
   "source": [
    "- Logistic Regression"
   ]
  },
  {
   "cell_type": "code",
   "execution_count": 20,
   "metadata": {},
   "outputs": [
    {
     "name": "stdout",
     "output_type": "stream",
     "text": [
      "\n",
      " Training score:  0.8542306511056511\n",
      "\n",
      "The  accuracy in the validation set is:  0.8542914171656687\n"
     ]
    }
   ],
   "source": [
    "from sklearn.linear_model import LogisticRegression\n",
    "clf_LR=LogisticRegression()\n",
    "clf_LR=clf_LR.fit(x_train,y_train)\n",
    "print(\"\\n Training score: \",clf_LR.score(x_train, y_train)) #evaluating the training error\n",
    "predictions = clf_LR.predict(x_val)\n",
    "score =  accuracy(y_val, predictions)#metrics.accuracy_score(pred, y_val)\n",
    "print(\"\\nThe  accuracy in the validation set is: \",score)"
   ]
  },
  {
   "cell_type": "markdown",
   "metadata": {},
   "source": [
    "#### test model"
   ]
  },
  {
   "cell_type": "code",
   "execution_count": 21,
   "metadata": {},
   "outputs": [
    {
     "name": "stdout",
     "output_type": "stream",
     "text": [
      "\n",
      "The accuracy score that we get is:  0.856704133652724\n"
     ]
    }
   ],
   "source": [
    "y_hat=clf_LR.predict(Test_data)\n",
    "sc=  accuracy(y_test, y_hat) #metrics.accuracy_score(pred,y_val)\n",
    "print(\"\\nThe accuracy score that we get is: \",sc)"
   ]
  },
  {
   "cell_type": "markdown",
   "metadata": {},
   "source": [
    " #### Computing of the demographic parity DP"
   ]
  },
  {
   "cell_type": "code",
   "execution_count": 22,
   "metadata": {},
   "outputs": [
    {
     "name": "stdout",
     "output_type": "stream",
     "text": [
      "\n",
      "The demographic parity that we get is:  [0.17768128]\n"
     ]
    }
   ],
   "source": [
    "dp= DP(A_test,y_hat)\n",
    "print(\"\\nThe demographic parity that we get is: \",dp)"
   ]
  },
  {
   "cell_type": "code",
   "execution_count": 23,
   "metadata": {},
   "outputs": [
    {
     "name": "stdout",
     "output_type": "stream",
     "text": [
      "             precision    recall  f1-score   support\n",
      "\n",
      "        0.0       0.89      0.93      0.91     12435\n",
      "        1.0       0.74      0.61      0.67      3846\n",
      "\n",
      "avg / total       0.85      0.86      0.85     16281\n",
      "\n"
     ]
    }
   ],
   "source": [
    "print(metrics.classification_report(y_test,y_hat))"
   ]
  },
  {
   "cell_type": "markdown",
   "metadata": {},
   "source": [
    "- Remove the 10 most correlated features to A and Retrain"
   ]
  },
  {
   "cell_type": "code",
   "execution_count": 24,
   "metadata": {},
   "outputs": [
    {
     "data": {
      "text/html": [
       "<div>\n",
       "<style scoped>\n",
       "    .dataframe tbody tr th:only-of-type {\n",
       "        vertical-align: middle;\n",
       "    }\n",
       "\n",
       "    .dataframe tbody tr th {\n",
       "        vertical-align: top;\n",
       "    }\n",
       "\n",
       "    .dataframe thead th {\n",
       "        text-align: right;\n",
       "    }\n",
       "</style>\n",
       "<table border=\"1\" class=\"dataframe\">\n",
       "  <thead>\n",
       "    <tr style=\"text-align: right;\">\n",
       "      <th></th>\n",
       "      <th>age_u20</th>\n",
       "      <th>age_u30</th>\n",
       "      <th>age_u40</th>\n",
       "      <th>age_u50</th>\n",
       "      <th>age_u60</th>\n",
       "      <th>age_u70</th>\n",
       "      <th>age_u80</th>\n",
       "      <th>workclass_Private</th>\n",
       "      <th>workclass_Self-emp-not-inc</th>\n",
       "      <th>workclass_Self-emp-inc</th>\n",
       "      <th>...</th>\n",
       "      <th>country_Nicaragua</th>\n",
       "      <th>country_Scotland</th>\n",
       "      <th>country_Thailand</th>\n",
       "      <th>country_Yugoslavia</th>\n",
       "      <th>country_El-Salvador</th>\n",
       "      <th>country_Trinadad&amp;Tobago</th>\n",
       "      <th>country_Peru</th>\n",
       "      <th>country_Hong</th>\n",
       "      <th>country_Holand-Netherlands</th>\n",
       "      <th>country_?</th>\n",
       "    </tr>\n",
       "  </thead>\n",
       "  <tbody>\n",
       "    <tr>\n",
       "      <th>0</th>\n",
       "      <td>1.0</td>\n",
       "      <td>0.0</td>\n",
       "      <td>0.0</td>\n",
       "      <td>0.0</td>\n",
       "      <td>0.0</td>\n",
       "      <td>0.0</td>\n",
       "      <td>0.0</td>\n",
       "      <td>1.0</td>\n",
       "      <td>0.0</td>\n",
       "      <td>0.0</td>\n",
       "      <td>...</td>\n",
       "      <td>0.0</td>\n",
       "      <td>0.0</td>\n",
       "      <td>0.0</td>\n",
       "      <td>0.0</td>\n",
       "      <td>0.0</td>\n",
       "      <td>0.0</td>\n",
       "      <td>0.0</td>\n",
       "      <td>0.0</td>\n",
       "      <td>0.0</td>\n",
       "      <td>0.0</td>\n",
       "    </tr>\n",
       "    <tr>\n",
       "      <th>1</th>\n",
       "      <td>0.0</td>\n",
       "      <td>1.0</td>\n",
       "      <td>0.0</td>\n",
       "      <td>0.0</td>\n",
       "      <td>0.0</td>\n",
       "      <td>0.0</td>\n",
       "      <td>0.0</td>\n",
       "      <td>1.0</td>\n",
       "      <td>0.0</td>\n",
       "      <td>0.0</td>\n",
       "      <td>...</td>\n",
       "      <td>0.0</td>\n",
       "      <td>0.0</td>\n",
       "      <td>0.0</td>\n",
       "      <td>0.0</td>\n",
       "      <td>0.0</td>\n",
       "      <td>0.0</td>\n",
       "      <td>0.0</td>\n",
       "      <td>0.0</td>\n",
       "      <td>0.0</td>\n",
       "      <td>0.0</td>\n",
       "    </tr>\n",
       "    <tr>\n",
       "      <th>2</th>\n",
       "      <td>0.0</td>\n",
       "      <td>0.0</td>\n",
       "      <td>0.0</td>\n",
       "      <td>0.0</td>\n",
       "      <td>1.0</td>\n",
       "      <td>0.0</td>\n",
       "      <td>0.0</td>\n",
       "      <td>0.0</td>\n",
       "      <td>0.0</td>\n",
       "      <td>0.0</td>\n",
       "      <td>...</td>\n",
       "      <td>0.0</td>\n",
       "      <td>0.0</td>\n",
       "      <td>0.0</td>\n",
       "      <td>0.0</td>\n",
       "      <td>0.0</td>\n",
       "      <td>0.0</td>\n",
       "      <td>0.0</td>\n",
       "      <td>0.0</td>\n",
       "      <td>0.0</td>\n",
       "      <td>0.0</td>\n",
       "    </tr>\n",
       "    <tr>\n",
       "      <th>3</th>\n",
       "      <td>0.0</td>\n",
       "      <td>0.0</td>\n",
       "      <td>0.0</td>\n",
       "      <td>1.0</td>\n",
       "      <td>0.0</td>\n",
       "      <td>0.0</td>\n",
       "      <td>0.0</td>\n",
       "      <td>0.0</td>\n",
       "      <td>0.0</td>\n",
       "      <td>0.0</td>\n",
       "      <td>...</td>\n",
       "      <td>0.0</td>\n",
       "      <td>0.0</td>\n",
       "      <td>0.0</td>\n",
       "      <td>0.0</td>\n",
       "      <td>0.0</td>\n",
       "      <td>0.0</td>\n",
       "      <td>0.0</td>\n",
       "      <td>0.0</td>\n",
       "      <td>0.0</td>\n",
       "      <td>0.0</td>\n",
       "    </tr>\n",
       "    <tr>\n",
       "      <th>4</th>\n",
       "      <td>0.0</td>\n",
       "      <td>0.0</td>\n",
       "      <td>0.0</td>\n",
       "      <td>0.0</td>\n",
       "      <td>0.0</td>\n",
       "      <td>1.0</td>\n",
       "      <td>0.0</td>\n",
       "      <td>1.0</td>\n",
       "      <td>0.0</td>\n",
       "      <td>0.0</td>\n",
       "      <td>...</td>\n",
       "      <td>0.0</td>\n",
       "      <td>0.0</td>\n",
       "      <td>0.0</td>\n",
       "      <td>0.0</td>\n",
       "      <td>0.0</td>\n",
       "      <td>0.0</td>\n",
       "      <td>0.0</td>\n",
       "      <td>0.0</td>\n",
       "      <td>0.0</td>\n",
       "      <td>0.0</td>\n",
       "    </tr>\n",
       "  </tbody>\n",
       "</table>\n",
       "<p>5 rows × 103 columns</p>\n",
       "</div>"
      ],
      "text/plain": [
       "   age_u20\\n  age_u30\\n  age_u40\\n  age_u50\\n  age_u60\\n  age_u70\\n  \\\n",
       "0        1.0        0.0        0.0        0.0        0.0        0.0   \n",
       "1        0.0        1.0        0.0        0.0        0.0        0.0   \n",
       "2        0.0        0.0        0.0        0.0        1.0        0.0   \n",
       "3        0.0        0.0        0.0        1.0        0.0        0.0   \n",
       "4        0.0        0.0        0.0        0.0        0.0        1.0   \n",
       "\n",
       "   age_u80\\n  workclass_Private\\n  workclass_Self-emp-not-inc\\n  \\\n",
       "0        0.0                  1.0                           0.0   \n",
       "1        0.0                  1.0                           0.0   \n",
       "2        0.0                  0.0                           0.0   \n",
       "3        0.0                  0.0                           0.0   \n",
       "4        0.0                  1.0                           0.0   \n",
       "\n",
       "   workclass_Self-emp-inc\\n     ...       country_Nicaragua\\n  \\\n",
       "0                       0.0     ...                       0.0   \n",
       "1                       0.0     ...                       0.0   \n",
       "2                       0.0     ...                       0.0   \n",
       "3                       0.0     ...                       0.0   \n",
       "4                       0.0     ...                       0.0   \n",
       "\n",
       "   country_Scotland\\n  country_Thailand\\n  country_Yugoslavia\\n  \\\n",
       "0                 0.0                 0.0                   0.0   \n",
       "1                 0.0                 0.0                   0.0   \n",
       "2                 0.0                 0.0                   0.0   \n",
       "3                 0.0                 0.0                   0.0   \n",
       "4                 0.0                 0.0                   0.0   \n",
       "\n",
       "   country_El-Salvador\\n  country_Trinadad&Tobago\\n  country_Peru\\n  \\\n",
       "0                    0.0                        0.0             0.0   \n",
       "1                    0.0                        0.0             0.0   \n",
       "2                    0.0                        0.0             0.0   \n",
       "3                    0.0                        0.0             0.0   \n",
       "4                    0.0                        0.0             0.0   \n",
       "\n",
       "   country_Hong\\n  country_Holand-Netherlands\\n  country_?\\n  \n",
       "0             0.0                           0.0          0.0  \n",
       "1             0.0                           0.0          0.0  \n",
       "2             0.0                           0.0          0.0  \n",
       "3             0.0                           0.0          0.0  \n",
       "4             0.0                           0.0          0.0  \n",
       "\n",
       "[5 rows x 103 columns]"
      ]
     },
     "execution_count": 24,
     "metadata": {},
     "output_type": "execute_result"
    }
   ],
   "source": [
    "def removeCorr_top10_feature(data):\n",
    "\n",
    "    toRemove=[\"sex_Female\\n\",\"sex_Male\\n\",\"relationship_Husband\\n\",\"marital-status_Married-civ-spouse\\n\",\"relationship_Unmarried\\n\",\"relationship_Wife\\n\",\"occupation_Adm-clerical\\n\",\"hours-per-week\\n\",\"marital-status_Divorced\\n\",\"occupation_Craft-repair\\n\"]\n",
    "\n",
    "    for r in toRemove:\n",
    "        data.drop([r], axis = 1, inplace = True, errors = 'ignore')\n",
    "    return data\n",
    "data=removeCorr_top10_feature(Train_data)\n",
    "data.head(5)"
   ]
  },
  {
   "cell_type": "code",
   "execution_count": 25,
   "metadata": {},
   "outputs": [],
   "source": [
    "x_train,x_val,y_train,y_val=train_test_split(data,y, test_size = 0.2)"
   ]
  },
  {
   "cell_type": "code",
   "execution_count": 26,
   "metadata": {},
   "outputs": [],
   "source": [
    "#x_train"
   ]
  },
  {
   "cell_type": "code",
   "execution_count": 27,
   "metadata": {},
   "outputs": [
    {
     "name": "stdout",
     "output_type": "stream",
     "text": [
      "\t %%% Now lets fit our model first and then we test with our validation set %%%\n",
      "\n",
      " Training score:  0.8446713759213759\n",
      "\n",
      "The validation score that we get is:  0.8403193612774451\n"
     ]
    }
   ],
   "source": [
    "print(\"\\t %%% Now lets fit our model first and then we test with our validation set %%%\")\n",
    "clf_LR = clf_LR.fit(x_train,y_train)\n",
    "print(\"\\n Training score: \",clf_LR.score(x_train, y_train)) #evaluating the training error\n",
    "pred = clf_LR.predict(x_val)\n",
    "score = accuracy(y_val, pred)\n",
    "print(\"\\nThe validation score that we get is: \",score)"
   ]
  },
  {
   "cell_type": "markdown",
   "metadata": {},
   "source": [
    "#### test model"
   ]
  },
  {
   "cell_type": "code",
   "execution_count": 28,
   "metadata": {},
   "outputs": [
    {
     "name": "stdout",
     "output_type": "stream",
     "text": [
      "\n",
      "The accuracy score that we get is:  0.8479208893802592\n"
     ]
    }
   ],
   "source": [
    "new_data_test=removeCorr_top10_feature(Test_data)\n",
    "y_hat=clf_LR.predict(new_data_test)\n",
    "sc= accuracy(y_test, y_hat)#metrics.accuracy_score(pred, y_val)\n",
    "print(\"\\nThe accuracy score that we get is: \",sc)"
   ]
  },
  {
   "cell_type": "code",
   "execution_count": 29,
   "metadata": {},
   "outputs": [
    {
     "name": "stdout",
     "output_type": "stream",
     "text": [
      "             precision    recall  f1-score   support\n",
      "\n",
      "        0.0       0.87      0.94      0.90     12435\n",
      "        1.0       0.74      0.55      0.63      3846\n",
      "\n",
      "avg / total       0.84      0.85      0.84     16281\n",
      "\n"
     ]
    }
   ],
   "source": [
    "print(metrics.classification_report(y_test, y_hat))"
   ]
  },
  {
   "cell_type": "code",
   "execution_count": 30,
   "metadata": {},
   "outputs": [
    {
     "name": "stdout",
     "output_type": "stream",
     "text": [
      "\n",
      "The demographic parity that we get is:  [0.1357734]\n"
     ]
    }
   ],
   "source": [
    "dp=DP(A_test,y_hat)\n",
    "print(\"\\nThe demographic parity that we get is: \",dp)"
   ]
  },
  {
   "cell_type": "markdown",
   "metadata": {},
   "source": [
    "### 2 - 3 ) Correlation with the prediction "
   ]
  },
  {
   "cell_type": "markdown",
   "metadata": {},
   "source": [
    "#### Three most correlated to Y_hat"
   ]
  },
  {
   "cell_type": "code",
   "execution_count": 31,
   "metadata": {},
   "outputs": [
    {
     "name": "stdout",
     "output_type": "stream",
     "text": [
      "\n",
      " The 3 most correlated features with Y_hat are:\n"
     ]
    },
    {
     "data": {
      "text/html": [
       "<div>\n",
       "<style scoped>\n",
       "    .dataframe tbody tr th:only-of-type {\n",
       "        vertical-align: middle;\n",
       "    }\n",
       "\n",
       "    .dataframe tbody tr th {\n",
       "        vertical-align: top;\n",
       "    }\n",
       "\n",
       "    .dataframe thead th {\n",
       "        text-align: right;\n",
       "    }\n",
       "</style>\n",
       "<table border=\"1\" class=\"dataframe\">\n",
       "  <thead>\n",
       "    <tr style=\"text-align: right;\">\n",
       "      <th></th>\n",
       "      <th>Y_hat</th>\n",
       "    </tr>\n",
       "  </thead>\n",
       "  <tbody>\n",
       "    <tr>\n",
       "      <th>education_num\\n</th>\n",
       "      <td>0.471660</td>\n",
       "    </tr>\n",
       "    <tr>\n",
       "      <th>education_Bachelors\\n</th>\n",
       "      <td>0.313140</td>\n",
       "    </tr>\n",
       "    <tr>\n",
       "      <th>marital-status_Never-married\\n</th>\n",
       "      <td>0.300396</td>\n",
       "    </tr>\n",
       "  </tbody>\n",
       "</table>\n",
       "</div>"
      ],
      "text/plain": [
       "                                   Y_hat\n",
       "education_num\\n                 0.471660\n",
       "education_Bachelors\\n           0.313140\n",
       "marital-status_Never-married\\n  0.300396"
      ]
     },
     "execution_count": 31,
     "metadata": {},
     "output_type": "execute_result"
    }
   ],
   "source": [
    "# Adding the sensible attribute and the prediction to the test data\n",
    "data_with_pred=Test_data.copy()\n",
    "data_with_pred[\"A\"]=A_test\n",
    "data_with_pred[\"Y_hat\"]=y_hat\n",
    "#Getting the 3 mosr correlated \n",
    "corrmat_pred= data_with_pred.corr()\n",
    "corr_val=pd.DataFrame(np.abs(corrmat_pred['Y_hat']))\n",
    "corr=corr_val.sort_values(by='Y_hat',ascending=False) # We have the correlation in descending order and the first row is the variable y itself\n",
    "three_most=corr[1:4]\n",
    "print(\"\\n The 3 most correlated features with Y_hat are:\")\n",
    "three_most"
   ]
  },
  {
   "cell_type": "markdown",
   "metadata": {},
   "source": [
    "#### Three most correlated to Y_hat when A=0"
   ]
  },
  {
   "cell_type": "code",
   "execution_count": 33,
   "metadata": {},
   "outputs": [
    {
     "name": "stdout",
     "output_type": "stream",
     "text": [
      "\n",
      " The 3 most correlated features with Y_hat when A=0 are:\n"
     ]
    },
    {
     "data": {
      "text/html": [
       "<div>\n",
       "<style scoped>\n",
       "    .dataframe tbody tr th:only-of-type {\n",
       "        vertical-align: middle;\n",
       "    }\n",
       "\n",
       "    .dataframe tbody tr th {\n",
       "        vertical-align: top;\n",
       "    }\n",
       "\n",
       "    .dataframe thead th {\n",
       "        text-align: right;\n",
       "    }\n",
       "</style>\n",
       "<table border=\"1\" class=\"dataframe\">\n",
       "  <thead>\n",
       "    <tr style=\"text-align: right;\">\n",
       "      <th></th>\n",
       "      <th>Y_hat</th>\n",
       "    </tr>\n",
       "  </thead>\n",
       "  <tbody>\n",
       "    <tr>\n",
       "      <th>education_num\\n</th>\n",
       "      <td>0.327592</td>\n",
       "    </tr>\n",
       "    <tr>\n",
       "      <th>capital-gain\\n</th>\n",
       "      <td>0.308933</td>\n",
       "    </tr>\n",
       "    <tr>\n",
       "      <th>education_Masters\\n</th>\n",
       "      <td>0.259705</td>\n",
       "    </tr>\n",
       "  </tbody>\n",
       "</table>\n",
       "</div>"
      ],
      "text/plain": [
       "                        Y_hat\n",
       "education_num\\n      0.327592\n",
       "capital-gain\\n       0.308933\n",
       "education_Masters\\n  0.259705"
      ]
     },
     "execution_count": 33,
     "metadata": {},
     "output_type": "execute_result"
    }
   ],
   "source": [
    "data_with_pred[\"A\"]= A_test\n",
    "sub_test=data_with_pred.loc[data_with_pred[\"A\"]==0]\n",
    "corrmat_pred= sub_test.corr()\n",
    "corr_val=pd.DataFrame(np.abs(corrmat_pred['Y_hat']))\n",
    "corr=corr_val.sort_values(by='Y_hat',ascending=False) # We have the correlation in descending order and the first row is the variable y itself\n",
    "three_most=corr[1:4]\n",
    "print(\"\\n The 3 most correlated features with Y_hat when A=0 are:\")\n",
    "three_most"
   ]
  },
  {
   "cell_type": "markdown",
   "metadata": {},
   "source": [
    "#### Three most correlated to Y_hat when A=1"
   ]
  },
  {
   "cell_type": "code",
   "execution_count": 35,
   "metadata": {},
   "outputs": [
    {
     "name": "stdout",
     "output_type": "stream",
     "text": [
      "\n",
      " The 3 most correlated features with Y_hat when A=1 are:\n"
     ]
    },
    {
     "data": {
      "text/html": [
       "<div>\n",
       "<style scoped>\n",
       "    .dataframe tbody tr th:only-of-type {\n",
       "        vertical-align: middle;\n",
       "    }\n",
       "\n",
       "    .dataframe tbody tr th {\n",
       "        vertical-align: top;\n",
       "    }\n",
       "\n",
       "    .dataframe thead th {\n",
       "        text-align: right;\n",
       "    }\n",
       "</style>\n",
       "<table border=\"1\" class=\"dataframe\">\n",
       "  <thead>\n",
       "    <tr style=\"text-align: right;\">\n",
       "      <th></th>\n",
       "      <th>Y_hat</th>\n",
       "    </tr>\n",
       "  </thead>\n",
       "  <tbody>\n",
       "    <tr>\n",
       "      <th>education_num\\n</th>\n",
       "      <td>0.527556</td>\n",
       "    </tr>\n",
       "    <tr>\n",
       "      <th>education_Bachelors\\n</th>\n",
       "      <td>0.359940</td>\n",
       "    </tr>\n",
       "    <tr>\n",
       "      <th>occupation_Exec-managerial\\n</th>\n",
       "      <td>0.314171</td>\n",
       "    </tr>\n",
       "  </tbody>\n",
       "</table>\n",
       "</div>"
      ],
      "text/plain": [
       "                                 Y_hat\n",
       "education_num\\n               0.527556\n",
       "education_Bachelors\\n         0.359940\n",
       "occupation_Exec-managerial\\n  0.314171"
      ]
     },
     "execution_count": 35,
     "metadata": {},
     "output_type": "execute_result"
    }
   ],
   "source": [
    "sub_test1=data_with_pred.loc[data_with_pred[\"A\"]==1]\n",
    "corrmat_pred= sub_test1.corr()\n",
    "corr_val=pd.DataFrame(np.abs(corrmat_pred['Y_hat']))\n",
    "corr=corr_val.sort_values(by='Y_hat',ascending=False) # We have the correlation in descending order and the first row is the variable y itself\n",
    "three_most=corr[1:4]\n",
    "print(\"\\n The 3 most correlated features with Y_hat when A=1 are:\")\n",
    "three_most"
   ]
  },
  {
   "cell_type": "markdown",
   "metadata": {},
   "source": [
    "### 2 - 4) Classifier to predict A"
   ]
  },
  {
   "cell_type": "markdown",
   "metadata": {},
   "source": [
    "- Make a version of the dataset for the prediction of A by removing sex_Male and sex_Female"
   ]
  },
  {
   "cell_type": "code",
   "execution_count": 37,
   "metadata": {},
   "outputs": [],
   "source": [
    "#adult_data"
   ]
  },
  {
   "cell_type": "code",
   "execution_count": 38,
   "metadata": {},
   "outputs": [],
   "source": [
    "#Getting the base training set and remove  sex_Male and sex_Female feature\n",
    "data=adult_data.copy()\n",
    "data.drop(['sex_Male'], axis = 1, inplace = True, errors = 'ignore')\n",
    "data.drop(['sex_Female'], axis = 1, inplace = True, errors = 'ignore')\n",
    "data.drop(['income\\n'], axis = 1, inplace = True, errors = 'ignore')"
   ]
  },
  {
   "cell_type": "code",
   "execution_count": 39,
   "metadata": {},
   "outputs": [],
   "source": [
    "data.drop(['A'], axis = 1, inplace = True, errors = 'ignore')"
   ]
  },
  {
   "cell_type": "code",
   "execution_count": 40,
   "metadata": {},
   "outputs": [],
   "source": [
    "#Getting the base test set and remove  sex_Male and sex_Female feature\n",
    "Test_data=adult_data_test.copy()\n",
    "Test_data.drop(['income\\n'], axis = 1, inplace = True, errors = 'ignore')\n",
    "Test_data.drop(['sex_Male'], axis = 1, inplace = True, errors = 'ignore')\n",
    "Test_data.drop(['sex_Female'], axis = 1, inplace = True, errors = 'ignore')\n",
    "Test_data.drop(['A'], axis = 1, inplace = True, errors = 'ignore')"
   ]
  },
  {
   "cell_type": "code",
   "execution_count": 41,
   "metadata": {},
   "outputs": [],
   "source": [
    "#Test_data"
   ]
  },
  {
   "cell_type": "markdown",
   "metadata": {},
   "source": [
    "- Prediction of A"
   ]
  },
  {
   "cell_type": "code",
   "execution_count": 42,
   "metadata": {},
   "outputs": [
    {
     "name": "stdout",
     "output_type": "stream",
     "text": [
      "\n",
      "The validation score that we get is:  1.0\n"
     ]
    }
   ],
   "source": [
    "#Splitting the data into train and validation set\n",
    "x_train_A,x_val_A,A_train,A_val=train_test_split(data,A, test_size = 0.2)\n",
    "clf_LR =clf_LR.fit(x_train_A,A_train)\n",
    "pred_A=clf_LR.predict(x_val_A)\n",
    "score = accuracy(A_val, pred_A)\n",
    "print(\"\\nThe validation score that we get is: \",score)"
   ]
  },
  {
   "cell_type": "markdown",
   "metadata": {},
   "source": [
    "- Test new version of data"
   ]
  },
  {
   "cell_type": "code",
   "execution_count": 43,
   "metadata": {},
   "outputs": [
    {
     "name": "stdout",
     "output_type": "stream",
     "text": [
      "\n",
      "The test accuracy that we get is:  1.0\n",
      "\n",
      "The reweighted_accuracy that we get is:  1.0\n"
     ]
    }
   ],
   "source": [
    "pred_test=clf_LR.predict(Test_data)\n",
    "test_score = accuracy(A_test, pred_test)\n",
    "print(\"\\nThe test accuracy that we get is: \",test_score)\n",
    "acc_reweight = reweighted_accuracy(A_test,A_test,pred_test)\n",
    "print(\"\\nThe reweighted_accuracy that we get is: \",acc_reweight)"
   ]
  },
  {
   "cell_type": "markdown",
   "metadata": {},
   "source": [
    "- Remove the feature correlated to A and retrain"
   ]
  },
  {
   "cell_type": "code",
   "execution_count": 44,
   "metadata": {},
   "outputs": [
    {
     "name": "stdout",
     "output_type": "stream",
     "text": [
      "\n",
      "The validation score that we get is:  0.714812160917187\n"
     ]
    }
   ],
   "source": [
    "Train_without_corr=removeCorr_top10_feature(Train_data)\n",
    "Train_without_corr.drop(['A'], axis = 1, inplace = True, errors = 'ignore')\n",
    "#Splitting the data into train and validation set\n",
    "x_train_A,x_val_A,A_train,A_val=train_test_split(Train_without_corr,A, test_size = 0.3)\n",
    "clf_LR =clf_LR.fit(x_train_A,A_train)\n",
    "pred_A=clf_LR.predict(x_val_A)\n",
    "score = accuracy(A_val, pred_A)\n",
    "print(\"\\nThe validation score that we get is: \",score)"
   ]
  },
  {
   "cell_type": "code",
   "execution_count": 45,
   "metadata": {},
   "outputs": [],
   "source": [
    "#x_train"
   ]
  },
  {
   "cell_type": "markdown",
   "metadata": {},
   "source": [
    "- Test new version of data"
   ]
  },
  {
   "cell_type": "code",
   "execution_count": 46,
   "metadata": {},
   "outputs": [
    {
     "name": "stdout",
     "output_type": "stream",
     "text": [
      "\n",
      "The accuracy in the test set that we get is:  0.7111356796265585\n",
      "\n",
      "The reweighted_accuracy in the test set score that we get is:  0.6338510661933692\n"
     ]
    }
   ],
   "source": [
    "Test_without_corr=removeCorr_top10_feature(Test_data)\n",
    "pred_test_A=clf_LR.predict(Test_without_corr)\n",
    "test_score= accuracy(A_test,pred_test_A)\n",
    "print(\"\\nThe accuracy in the test set that we get is: \",test_score)\n",
    "acc_reweight=reweighted_accuracy(A_test,A_test,pred_test_A)\n",
    "print(\"\\nThe reweighted_accuracy in the test set score that we get is: \",acc_reweight)"
   ]
  },
  {
   "cell_type": "markdown",
   "metadata": {},
   "source": [
    "### 3) Representation Learning"
   ]
  },
  {
   "cell_type": "markdown",
   "metadata": {},
   "source": [
    "### 3 - 1) Preprocessing of features and classification"
   ]
  },
  {
   "cell_type": "markdown",
   "metadata": {},
   "source": [
    "- Fit  Gaussian to each feature for group A=0 and 1 for preprocessing of features"
   ]
  },
  {
   "cell_type": "code",
   "execution_count": 47,
   "metadata": {},
   "outputs": [],
   "source": [
    "def preprocessing_data(df):\n",
    "    for r in features:\n",
    "        m0=df[r][df[\"A\"]==0].mean()\n",
    "        sig0=df[r][df[\"A\"]==0].std()\n",
    "        m1=df[r][df[\"A\"]==1].mean()\n",
    "        sig1=df[r][df[\"A\"]==1].std()\n",
    "        if sig0 <1e-4:\n",
    "            sig0=1\n",
    "        if sig1<1e-4 :\n",
    "            sig1=1\n",
    "        df[r][df[\"A\"]==0]=(df[r][df[\"A\"]==0] -m0)/sig0\n",
    "        df[r][df[\"A\"]==1]=(df[r][df[\"A\"]==1] -m1)/sig1\n",
    "    return df    "
   ]
  },
  {
   "cell_type": "code",
   "execution_count": 48,
   "metadata": {},
   "outputs": [
    {
     "data": {
      "text/html": [
       "<div>\n",
       "<style scoped>\n",
       "    .dataframe tbody tr th:only-of-type {\n",
       "        vertical-align: middle;\n",
       "    }\n",
       "\n",
       "    .dataframe tbody tr th {\n",
       "        vertical-align: top;\n",
       "    }\n",
       "\n",
       "    .dataframe thead th {\n",
       "        text-align: right;\n",
       "    }\n",
       "</style>\n",
       "<table border=\"1\" class=\"dataframe\">\n",
       "  <thead>\n",
       "    <tr style=\"text-align: right;\">\n",
       "      <th></th>\n",
       "      <th>age_u20</th>\n",
       "      <th>age_u30</th>\n",
       "      <th>age_u40</th>\n",
       "      <th>age_u50</th>\n",
       "      <th>age_u60</th>\n",
       "      <th>age_u70</th>\n",
       "      <th>age_u80</th>\n",
       "      <th>workclass_Private</th>\n",
       "      <th>workclass_Self-emp-not-inc</th>\n",
       "      <th>workclass_Self-emp-inc</th>\n",
       "      <th>...</th>\n",
       "      <th>country_Thailand</th>\n",
       "      <th>country_Yugoslavia</th>\n",
       "      <th>country_El-Salvador</th>\n",
       "      <th>country_Trinadad&amp;Tobago</th>\n",
       "      <th>country_Peru</th>\n",
       "      <th>country_Hong</th>\n",
       "      <th>country_Holand-Netherlands</th>\n",
       "      <th>country_?</th>\n",
       "      <th>income</th>\n",
       "      <th>A</th>\n",
       "    </tr>\n",
       "  </thead>\n",
       "  <tbody>\n",
       "    <tr>\n",
       "      <th>0</th>\n",
       "      <td>3.506621</td>\n",
       "      <td>-0.646631</td>\n",
       "      <td>-0.560633</td>\n",
       "      <td>-0.500963</td>\n",
       "      <td>-0.358539</td>\n",
       "      <td>-0.245431</td>\n",
       "      <td>-0.140663</td>\n",
       "      <td>0.624029</td>\n",
       "      <td>-0.196126</td>\n",
       "      <td>-0.112657</td>\n",
       "      <td>...</td>\n",
       "      <td>-0.031972</td>\n",
       "      <td>-0.016691</td>\n",
       "      <td>-0.057094</td>\n",
       "      <td>-0.031972</td>\n",
       "      <td>-0.036074</td>\n",
       "      <td>-0.023607</td>\n",
       "      <td>-0.009635</td>\n",
       "      <td>-0.123953</td>\n",
       "      <td>-0.350576</td>\n",
       "      <td>0.0</td>\n",
       "    </tr>\n",
       "    <tr>\n",
       "      <th>1</th>\n",
       "      <td>-0.285148</td>\n",
       "      <td>1.546335</td>\n",
       "      <td>-0.560633</td>\n",
       "      <td>-0.500963</td>\n",
       "      <td>-0.358539</td>\n",
       "      <td>-0.245431</td>\n",
       "      <td>-0.140663</td>\n",
       "      <td>0.624029</td>\n",
       "      <td>-0.196126</td>\n",
       "      <td>-0.112657</td>\n",
       "      <td>...</td>\n",
       "      <td>-0.031972</td>\n",
       "      <td>-0.016691</td>\n",
       "      <td>-0.057094</td>\n",
       "      <td>-0.031972</td>\n",
       "      <td>-0.036074</td>\n",
       "      <td>-0.023607</td>\n",
       "      <td>-0.009635</td>\n",
       "      <td>-0.123953</td>\n",
       "      <td>-0.350576</td>\n",
       "      <td>0.0</td>\n",
       "    </tr>\n",
       "    <tr>\n",
       "      <th>2</th>\n",
       "      <td>-0.201100</td>\n",
       "      <td>-0.537048</td>\n",
       "      <td>-0.619040</td>\n",
       "      <td>-0.546686</td>\n",
       "      <td>2.414190</td>\n",
       "      <td>-0.262327</td>\n",
       "      <td>-0.140189</td>\n",
       "      <td>-1.477424</td>\n",
       "      <td>-0.330172</td>\n",
       "      <td>-0.217120</td>\n",
       "      <td>...</td>\n",
       "      <td>-0.017926</td>\n",
       "      <td>-0.024432</td>\n",
       "      <td>-0.057174</td>\n",
       "      <td>-0.019164</td>\n",
       "      <td>-0.027942</td>\n",
       "      <td>-0.025355</td>\n",
       "      <td>0.000000</td>\n",
       "      <td>-0.140189</td>\n",
       "      <td>1.506879</td>\n",
       "      <td>1.0</td>\n",
       "    </tr>\n",
       "    <tr>\n",
       "      <th>3</th>\n",
       "      <td>-0.201100</td>\n",
       "      <td>-0.537048</td>\n",
       "      <td>-0.619040</td>\n",
       "      <td>1.829119</td>\n",
       "      <td>-0.414199</td>\n",
       "      <td>-0.262327</td>\n",
       "      <td>-0.140189</td>\n",
       "      <td>-1.477424</td>\n",
       "      <td>-0.330172</td>\n",
       "      <td>-0.217120</td>\n",
       "      <td>...</td>\n",
       "      <td>-0.017926</td>\n",
       "      <td>-0.024432</td>\n",
       "      <td>-0.057174</td>\n",
       "      <td>-0.019164</td>\n",
       "      <td>-0.027942</td>\n",
       "      <td>-0.025355</td>\n",
       "      <td>0.000000</td>\n",
       "      <td>-0.140189</td>\n",
       "      <td>1.506879</td>\n",
       "      <td>1.0</td>\n",
       "    </tr>\n",
       "    <tr>\n",
       "      <th>4</th>\n",
       "      <td>-0.285148</td>\n",
       "      <td>-0.646631</td>\n",
       "      <td>-0.560633</td>\n",
       "      <td>-0.500963</td>\n",
       "      <td>-0.358539</td>\n",
       "      <td>4.074081</td>\n",
       "      <td>-0.140663</td>\n",
       "      <td>0.624029</td>\n",
       "      <td>-0.196126</td>\n",
       "      <td>-0.112657</td>\n",
       "      <td>...</td>\n",
       "      <td>-0.031972</td>\n",
       "      <td>-0.016691</td>\n",
       "      <td>-0.057094</td>\n",
       "      <td>-0.031972</td>\n",
       "      <td>-0.036074</td>\n",
       "      <td>-0.023607</td>\n",
       "      <td>-0.009635</td>\n",
       "      <td>-0.123953</td>\n",
       "      <td>-0.350576</td>\n",
       "      <td>0.0</td>\n",
       "    </tr>\n",
       "  </tbody>\n",
       "</table>\n",
       "<p>5 rows × 115 columns</p>\n",
       "</div>"
      ],
      "text/plain": [
       "   age_u20\\n  age_u30\\n  age_u40\\n  age_u50\\n  age_u60\\n  age_u70\\n  \\\n",
       "0   3.506621  -0.646631  -0.560633  -0.500963  -0.358539  -0.245431   \n",
       "1  -0.285148   1.546335  -0.560633  -0.500963  -0.358539  -0.245431   \n",
       "2  -0.201100  -0.537048  -0.619040  -0.546686   2.414190  -0.262327   \n",
       "3  -0.201100  -0.537048  -0.619040   1.829119  -0.414199  -0.262327   \n",
       "4  -0.285148  -0.646631  -0.560633  -0.500963  -0.358539   4.074081   \n",
       "\n",
       "   age_u80\\n  workclass_Private\\n  workclass_Self-emp-not-inc\\n  \\\n",
       "0  -0.140663             0.624029                     -0.196126   \n",
       "1  -0.140663             0.624029                     -0.196126   \n",
       "2  -0.140189            -1.477424                     -0.330172   \n",
       "3  -0.140189            -1.477424                     -0.330172   \n",
       "4  -0.140663             0.624029                     -0.196126   \n",
       "\n",
       "   workclass_Self-emp-inc\\n ...   country_Thailand\\n  country_Yugoslavia\\n  \\\n",
       "0                 -0.112657 ...            -0.031972             -0.016691   \n",
       "1                 -0.112657 ...            -0.031972             -0.016691   \n",
       "2                 -0.217120 ...            -0.017926             -0.024432   \n",
       "3                 -0.217120 ...            -0.017926             -0.024432   \n",
       "4                 -0.112657 ...            -0.031972             -0.016691   \n",
       "\n",
       "   country_El-Salvador\\n  country_Trinadad&Tobago\\n  country_Peru\\n  \\\n",
       "0              -0.057094                  -0.031972       -0.036074   \n",
       "1              -0.057094                  -0.031972       -0.036074   \n",
       "2              -0.057174                  -0.019164       -0.027942   \n",
       "3              -0.057174                  -0.019164       -0.027942   \n",
       "4              -0.057094                  -0.031972       -0.036074   \n",
       "\n",
       "   country_Hong\\n  country_Holand-Netherlands\\n  country_?\\n  income\\n    A  \n",
       "0       -0.023607                     -0.009635    -0.123953 -0.350576  0.0  \n",
       "1       -0.023607                     -0.009635    -0.123953 -0.350576  0.0  \n",
       "2       -0.025355                      0.000000    -0.140189  1.506879  1.0  \n",
       "3       -0.025355                      0.000000    -0.140189  1.506879  1.0  \n",
       "4       -0.023607                     -0.009635    -0.123953 -0.350576  0.0  \n",
       "\n",
       "[5 rows x 115 columns]"
      ]
     },
     "execution_count": 48,
     "metadata": {},
     "output_type": "execute_result"
    }
   ],
   "source": [
    "df=adult_data.copy()\n",
    "Train_preprocess=preprocessing_data(df)\n",
    "Train_preprocess.head()"
   ]
  },
  {
   "cell_type": "markdown",
   "metadata": {},
   "source": [
    "- Classifiers to predict Y(income) and A"
   ]
  },
  {
   "cell_type": "markdown",
   "metadata": {},
   "source": [
    " Predictions of the income Y"
   ]
  },
  {
   "cell_type": "code",
   "execution_count": 49,
   "metadata": {},
   "outputs": [],
   "source": [
    "#Train_data = df.copy()\n",
    "Train_preprocess.drop(['income\\n'], axis = 1, inplace = True, errors = 'ignore')\n",
    "Train_preprocess.drop(['A'], axis = 1, inplace = True, errors = 'ignore')\n",
    "x_train,x_val,y_train,y_val=train_test_split(Train_preprocess,y, test_size = 0.2)"
   ]
  },
  {
   "cell_type": "code",
   "execution_count": 50,
   "metadata": {},
   "outputs": [
    {
     "name": "stderr",
     "output_type": "stream",
     "text": [
      "Using TensorFlow backend.\n"
     ]
    }
   ],
   "source": [
    "import torch\n",
    "from keras.models import Sequential\n",
    "from keras.layers import Dense\n",
    "from keras import backend as K\n",
    "from mmd import MMD_torch"
   ]
  },
  {
   "cell_type": "code",
   "execution_count": 51,
   "metadata": {},
   "outputs": [],
   "source": [
    "def Classifier_NN(train_data, train_target, val_data, val_target,batch_size=32, epochs=30, verbose=1):\n",
    "    # Build neural network\n",
    "    model = Sequential()\n",
    "    # as first layer in a sequential model:\n",
    "    model.add(Dense(256, activation='relu', input_dim=train_data.shape[1]))\n",
    "    #model.add(Dropout(0.1))\n",
    "    model.add(Dense(128, activation='relu'))\n",
    "    #model.add(Dropout(0.1))\n",
    "    model.add(Dense(1, activation='sigmoid'))\n",
    "    # Compile model\n",
    "    model.compile(loss='binary_crossentropy',\n",
    "                  optimizer='adam', \n",
    "                  metrics=['accuracy'])\n",
    "\n",
    "    # Train model\n",
    "    model.fit(train_data, train_target,\n",
    "              batch_size=batch_size,\n",
    "              epochs=epochs,\n",
    "              verbose=verbose,\n",
    "              validation_data=(val_data, val_target))\n",
    "    return model"
   ]
  },
  {
   "cell_type": "code",
   "execution_count": 52,
   "metadata": {},
   "outputs": [
    {
     "name": "stdout",
     "output_type": "stream",
     "text": [
      "Train on 26048 samples, validate on 6513 samples\n",
      "Epoch 1/30\n",
      "26048/26048 [==============================] - 1s 44us/step - loss: 0.3552 - acc: 0.8391 - val_loss: 0.3461 - val_acc: 0.8399\n",
      "Epoch 2/30\n",
      "26048/26048 [==============================] - 1s 46us/step - loss: 0.3167 - acc: 0.8545 - val_loss: 0.3331 - val_acc: 0.8445\n",
      "Epoch 3/30\n",
      "26048/26048 [==============================] - 1s 42us/step - loss: 0.3064 - acc: 0.8579 - val_loss: 0.3306 - val_acc: 0.8480\n",
      "Epoch 4/30\n",
      "26048/26048 [==============================] - 1s 44us/step - loss: 0.3002 - acc: 0.8626 - val_loss: 0.3286 - val_acc: 0.8481\n",
      "Epoch 5/30\n",
      "26048/26048 [==============================] - 1s 51us/step - loss: 0.2934 - acc: 0.8647 - val_loss: 0.3331 - val_acc: 0.8454\n",
      "Epoch 6/30\n",
      "26048/26048 [==============================] - 1s 53us/step - loss: 0.2876 - acc: 0.8678 - val_loss: 0.3369 - val_acc: 0.8462\n",
      "Epoch 7/30\n",
      "26048/26048 [==============================] - 2s 61us/step - loss: 0.2828 - acc: 0.8698 - val_loss: 0.3413 - val_acc: 0.8439\n",
      "Epoch 8/30\n",
      "26048/26048 [==============================] - 1s 56us/step - loss: 0.2769 - acc: 0.8731 - val_loss: 0.3404 - val_acc: 0.8440\n",
      "Epoch 9/30\n",
      "26048/26048 [==============================] - 1s 48us/step - loss: 0.2710 - acc: 0.8750 - val_loss: 0.3484 - val_acc: 0.8458\n",
      "Epoch 10/30\n",
      "26048/26048 [==============================] - 1s 53us/step - loss: 0.2658 - acc: 0.8767 - val_loss: 0.3542 - val_acc: 0.8431\n",
      "Epoch 11/30\n",
      "26048/26048 [==============================] - 1s 57us/step - loss: 0.2598 - acc: 0.8791 - val_loss: 0.3543 - val_acc: 0.8451\n",
      "Epoch 12/30\n",
      "26048/26048 [==============================] - 1s 57us/step - loss: 0.2538 - acc: 0.8832 - val_loss: 0.3690 - val_acc: 0.8466\n",
      "Epoch 13/30\n",
      "26048/26048 [==============================] - 1s 54us/step - loss: 0.2481 - acc: 0.8848 - val_loss: 0.3728 - val_acc: 0.8431\n",
      "Epoch 14/30\n",
      "26048/26048 [==============================] - 1s 49us/step - loss: 0.2414 - acc: 0.8879 - val_loss: 0.3738 - val_acc: 0.8422\n",
      "Epoch 15/30\n",
      "26048/26048 [==============================] - 1s 54us/step - loss: 0.2370 - acc: 0.8905 - val_loss: 0.3796 - val_acc: 0.8415\n",
      "Epoch 16/30\n",
      "26048/26048 [==============================] - 1s 46us/step - loss: 0.2317 - acc: 0.8919 - val_loss: 0.3930 - val_acc: 0.8429\n",
      "Epoch 17/30\n",
      "26048/26048 [==============================] - 1s 39us/step - loss: 0.2270 - acc: 0.8936 - val_loss: 0.3994 - val_acc: 0.8386\n",
      "Epoch 18/30\n",
      "26048/26048 [==============================] - 1s 38us/step - loss: 0.2231 - acc: 0.8962 - val_loss: 0.4114 - val_acc: 0.8409\n",
      "Epoch 19/30\n",
      "26048/26048 [==============================] - 1s 37us/step - loss: 0.2179 - acc: 0.8963 - val_loss: 0.4185 - val_acc: 0.8422\n",
      "Epoch 20/30\n",
      "26048/26048 [==============================] - 1s 39us/step - loss: 0.2155 - acc: 0.8988 - val_loss: 0.4353 - val_acc: 0.8345\n",
      "Epoch 21/30\n",
      "26048/26048 [==============================] - 1s 39us/step - loss: 0.2111 - acc: 0.9014 - val_loss: 0.4502 - val_acc: 0.8357\n",
      "Epoch 22/30\n",
      "26048/26048 [==============================] - 1s 38us/step - loss: 0.2081 - acc: 0.9024 - val_loss: 0.4477 - val_acc: 0.8365\n",
      "Epoch 23/30\n",
      "26048/26048 [==============================] - 1s 39us/step - loss: 0.2045 - acc: 0.9031 - val_loss: 0.4801 - val_acc: 0.8382\n",
      "Epoch 24/30\n",
      "26048/26048 [==============================] - 1s 40us/step - loss: 0.2016 - acc: 0.9048 - val_loss: 0.4725 - val_acc: 0.8415\n",
      "Epoch 25/30\n",
      "26048/26048 [==============================] - 1s 38us/step - loss: 0.1979 - acc: 0.9076 - val_loss: 0.4920 - val_acc: 0.8334\n",
      "Epoch 26/30\n",
      "26048/26048 [==============================] - 1s 40us/step - loss: 0.1965 - acc: 0.9073 - val_loss: 0.5002 - val_acc: 0.8385\n",
      "Epoch 27/30\n",
      "26048/26048 [==============================] - 1s 40us/step - loss: 0.1936 - acc: 0.9083 - val_loss: 0.5147 - val_acc: 0.8397\n",
      "Epoch 28/30\n",
      "26048/26048 [==============================] - 1s 40us/step - loss: 0.1926 - acc: 0.9078 - val_loss: 0.5163 - val_acc: 0.8308\n",
      "Epoch 29/30\n",
      "26048/26048 [==============================] - 1s 39us/step - loss: 0.1910 - acc: 0.9095 - val_loss: 0.5074 - val_acc: 0.8346\n",
      "Epoch 30/30\n",
      "26048/26048 [==============================] - 1s 41us/step - loss: 0.1879 - acc: 0.9117 - val_loss: 0.5280 - val_acc: 0.8348\n"
     ]
    }
   ],
   "source": [
    "g=Classifier_NN(x_train, y_train, x_val, y_val,batch_size=32, epochs=30, verbose=1)"
   ]
  },
  {
   "cell_type": "markdown",
   "metadata": {},
   "source": [
    "- Test predictions"
   ]
  },
  {
   "cell_type": "code",
   "execution_count": 53,
   "metadata": {},
   "outputs": [],
   "source": [
    "Test_df=adult_data_test.copy()\n",
    "Test_df[\"A\"]=A_test\n",
    "Test_preprocess=preprocessing_data(Test_df)\n",
    "Test_preprocess.drop(['income\\n'], axis = 1, inplace = True, errors = 'ignore')\n",
    "Test_preprocess.drop(['A'], axis = 1, inplace = True, errors = 'ignore')"
   ]
  },
  {
   "cell_type": "code",
   "execution_count": 54,
   "metadata": {},
   "outputs": [
    {
     "name": "stdout",
     "output_type": "stream",
     "text": [
      "16281/16281 [==============================] - 0s 15us/step\n",
      "\n",
      "acc: 82.92%\n",
      "\n",
      "The demographic parity that we get is:  [0.18785192]\n"
     ]
    }
   ],
   "source": [
    "y_hat=g.predict(Test_preprocess)\n",
    "test_scores=g.evaluate(Test_preprocess,y_test)\n",
    "print(\"\\n%s: %.2f%%\" % (g.metrics_names[1], test_scores[1]*100))\n",
    "dp=DP(A_test,y_hat)\n",
    "print(\"\\nThe demographic parity that we get is: \",dp)"
   ]
  },
  {
   "cell_type": "markdown",
   "metadata": {},
   "source": [
    "- Predictions of A"
   ]
  },
  {
   "cell_type": "code",
   "execution_count": 55,
   "metadata": {},
   "outputs": [],
   "source": [
    "x_train_A,x_val_A,A_train,A_val=train_test_split(Train_preprocess,A,test_size = 0.2)"
   ]
  },
  {
   "cell_type": "code",
   "execution_count": 56,
   "metadata": {},
   "outputs": [
    {
     "name": "stdout",
     "output_type": "stream",
     "text": [
      "Train on 26048 samples, validate on 6513 samples\n",
      "Epoch 1/30\n",
      "26048/26048 [==============================] - 1s 42us/step - loss: 0.1372 - acc: 0.9481 - val_loss: 5.0584 - val_acc: 0.4103\n",
      "Epoch 2/30\n",
      "26048/26048 [==============================] - 1s 39us/step - loss: 0.0140 - acc: 0.9976 - val_loss: 6.2376 - val_acc: 0.4109\n",
      "Epoch 3/30\n",
      "26048/26048 [==============================] - 1s 39us/step - loss: 0.0111 - acc: 0.9983 - val_loss: 6.1272 - val_acc: 0.4130\n",
      "Epoch 4/30\n",
      "26048/26048 [==============================] - 1s 40us/step - loss: 0.0061 - acc: 0.9985 - val_loss: 7.2527 - val_acc: 0.4121\n",
      "Epoch 5/30\n",
      "26048/26048 [==============================] - 1s 40us/step - loss: 0.0059 - acc: 0.9990 - val_loss: 7.4539 - val_acc: 0.4116\n",
      "Epoch 6/30\n",
      "26048/26048 [==============================] - 1s 39us/step - loss: 0.0033 - acc: 0.9995 - val_loss: 8.0545 - val_acc: 0.4112\n",
      "Epoch 7/30\n",
      "26048/26048 [==============================] - 1s 39us/step - loss: 0.0049 - acc: 0.9996 - val_loss: 8.3555 - val_acc: 0.4124\n",
      "Epoch 8/30\n",
      "26048/26048 [==============================] - 1s 42us/step - loss: 0.0083 - acc: 0.9994 - val_loss: 8.5080 - val_acc: 0.4119\n",
      "Epoch 9/30\n",
      "26048/26048 [==============================] - 1s 41us/step - loss: 0.0092 - acc: 0.9994 - val_loss: 8.7160 - val_acc: 0.4115\n",
      "Epoch 10/30\n",
      "26048/26048 [==============================] - 1s 41us/step - loss: 0.0095 - acc: 0.9994 - val_loss: 8.7123 - val_acc: 0.4119\n",
      "Epoch 11/30\n",
      "26048/26048 [==============================] - 1s 43us/step - loss: 0.0103 - acc: 0.9988 - val_loss: 8.4556 - val_acc: 0.4126\n",
      "Epoch 12/30\n",
      "26048/26048 [==============================] - 1s 52us/step - loss: 0.0044 - acc: 0.9993 - val_loss: 8.5783 - val_acc: 0.4121\n",
      "Epoch 13/30\n",
      "26048/26048 [==============================] - 2s 58us/step - loss: 0.0023 - acc: 0.9997 - val_loss: 8.9625 - val_acc: 0.4115\n",
      "Epoch 14/30\n",
      "26048/26048 [==============================] - 1s 54us/step - loss: 0.0019 - acc: 0.9997 - val_loss: 8.9688 - val_acc: 0.4119\n",
      "Epoch 15/30\n",
      "26048/26048 [==============================] - 1s 47us/step - loss: 9.5110e-04 - acc: 0.9998 - val_loss: 8.9156 - val_acc: 0.4121\n",
      "Epoch 16/30\n",
      "26048/26048 [==============================] - 1s 46us/step - loss: 8.3873e-04 - acc: 0.9998 - val_loss: 9.1901 - val_acc: 0.4115\n",
      "Epoch 17/30\n",
      "26048/26048 [==============================] - 1s 43us/step - loss: 0.0072 - acc: 0.9991 - val_loss: 9.2702 - val_acc: 0.4118\n",
      "Epoch 18/30\n",
      "26048/26048 [==============================] - 1s 51us/step - loss: 0.0016 - acc: 0.9995 - val_loss: 9.2932 - val_acc: 0.4115\n",
      "Epoch 19/30\n",
      "26048/26048 [==============================] - 1s 51us/step - loss: 0.0016 - acc: 0.9998 - val_loss: 9.0189 - val_acc: 0.4121\n",
      "Epoch 20/30\n",
      "26048/26048 [==============================] - 1s 48us/step - loss: 6.1596e-04 - acc: 1.0000 - val_loss: 9.0748 - val_acc: 0.4119\n",
      "Epoch 21/30\n",
      "26048/26048 [==============================] - 1s 56us/step - loss: 6.1467e-04 - acc: 1.0000 - val_loss: 9.1397 - val_acc: 0.4119\n",
      "Epoch 22/30\n",
      "26048/26048 [==============================] - 1s 48us/step - loss: 6.1329e-04 - acc: 1.0000 - val_loss: 9.1757 - val_acc: 0.4119\n",
      "Epoch 23/30\n",
      "26048/26048 [==============================] - 1s 48us/step - loss: 6.1293e-04 - acc: 1.0000 - val_loss: 9.2183 - val_acc: 0.4121\n",
      "Epoch 24/30\n",
      "26048/26048 [==============================] - 1s 49us/step - loss: 6.1264e-04 - acc: 1.0000 - val_loss: 9.2722 - val_acc: 0.4123\n",
      "Epoch 25/30\n",
      "26048/26048 [==============================] - 1s 49us/step - loss: 6.1246e-04 - acc: 1.0000 - val_loss: 9.2986 - val_acc: 0.4123\n",
      "Epoch 26/30\n",
      "26048/26048 [==============================] - 1s 49us/step - loss: 6.1234e-04 - acc: 1.0000 - val_loss: 9.3343 - val_acc: 0.4121\n",
      "Epoch 27/30\n",
      "26048/26048 [==============================] - 1s 50us/step - loss: 6.1229e-04 - acc: 1.0000 - val_loss: 9.3385 - val_acc: 0.4123\n",
      "Epoch 28/30\n",
      "26048/26048 [==============================] - 1s 49us/step - loss: 6.1226e-04 - acc: 1.0000 - val_loss: 9.3532 - val_acc: 0.4123\n",
      "Epoch 29/30\n",
      "26048/26048 [==============================] - 1s 49us/step - loss: 6.1220e-04 - acc: 1.0000 - val_loss: 9.3589 - val_acc: 0.4123\n",
      "Epoch 30/30\n",
      "26048/26048 [==============================] - 1s 50us/step - loss: 6.1218e-04 - acc: 1.0000 - val_loss: 9.3654 - val_acc: 0.4123\n"
     ]
    }
   ],
   "source": [
    "h=Classifier_NN(x_train_A, A_train, x_val_A, y_val,batch_size=32, epochs=30, verbose=1)"
   ]
  },
  {
   "cell_type": "markdown",
   "metadata": {},
   "source": [
    "- Test"
   ]
  },
  {
   "cell_type": "code",
   "execution_count": 57,
   "metadata": {},
   "outputs": [
    {
     "name": "stdout",
     "output_type": "stream",
     "text": [
      "16281/16281 [==============================] - 0s 14us/step\n",
      "\n",
      "acc: 99.93%\n",
      "\n",
      "The reweighted_accuracy for the classifier of A is:  0.47937384898710866\n"
     ]
    }
   ],
   "source": [
    "A_hat=h.predict(Test_preprocess)\n",
    "test_scores=h.evaluate(Test_preprocess,A_test)\n",
    "print(\"\\n%s: %.2f%%\" % (h.metrics_names[1], test_scores[1]*100))\n",
    "acc_reweighted=reweighted_accuracy(A_test,A_test,A_hat)\n",
    "print(\"\\nThe reweighted_accuracy for the classifier of A is: \",acc_reweighted)"
   ]
  },
  {
   "cell_type": "markdown",
   "metadata": {},
   "source": [
    "#### 3 - 2 ) MMD"
   ]
  },
  {
   "cell_type": "code",
   "execution_count": 58,
   "metadata": {},
   "outputs": [],
   "source": [
    "#Sample a part of the dataset , convert it to tensor and compute the MMD\n",
    "batch_data= np.array(adult_data)[0:8000,:]\n",
    "batch_data=torch.tensor(batch_data)\n",
    "A_tensor=torch.tensor(A[0:8000,:])\n",
    "mmd_value =MMD_torch(batch_data,A_tensor)"
   ]
  },
  {
   "cell_type": "code",
   "execution_count": 59,
   "metadata": {},
   "outputs": [],
   "source": [
    "#Define the regularizer\n",
    "def reguralizer(alpha):\n",
    "    return alpha * mmd_value.item()"
   ]
  },
  {
   "cell_type": "code",
   "execution_count": 60,
   "metadata": {},
   "outputs": [],
   "source": [
    "#%%writefile Classifier_MMD.py\n",
    "def Classifier_with_regularizer(train_data, train_target, val_data, val_target,regularizer, batch_size=32, epochs=50, verbose=1):\n",
    "    # Build neural network\n",
    "    model = Sequential()\n",
    "    # as first layer in a sequential model:\n",
    "    model.add(Dense(256, activation='relu', input_dim=train_data.shape[1]))\n",
    "    #model.add(Dropout(0.1))\n",
    "    model.add(Dense(128, activation='relu', kernel_regularizer=regularizer))\n",
    "    #model.add(Dropout(0.1))\n",
    "    model.add(Dense(1, activation='sigmoid'))\n",
    "    # Compile model\n",
    "    model.compile(loss='binary_crossentropy',\n",
    "                  optimizer='adam', \n",
    "                  metrics=['accuracy'])\n",
    "\n",
    "    # Train model\n",
    "    model.fit(train_data, train_target,\n",
    "              batch_size=batch_size,\n",
    "              epochs=epochs,\n",
    "              verbose=verbose,\n",
    "              validation_data=(val_data, val_target))\n",
    "    return model"
   ]
  },
  {
   "cell_type": "markdown",
   "metadata": {},
   "source": [
    "- Prediction of Y"
   ]
  },
  {
   "cell_type": "code",
   "execution_count": 61,
   "metadata": {},
   "outputs": [
    {
     "name": "stdout",
     "output_type": "stream",
     "text": [
      "Train on 26048 samples, validate on 6513 samples\n",
      "Epoch 1/50\n",
      "26048/26048 [==============================] - 2s 59us/step - loss: 0.3562 - acc: 0.8393 - val_loss: 0.3397 - val_acc: 0.8437\n",
      "Epoch 2/50\n",
      "26048/26048 [==============================] - 1s 55us/step - loss: 0.3184 - acc: 0.8535 - val_loss: 0.3330 - val_acc: 0.8466\n",
      "Epoch 3/50\n",
      "26048/26048 [==============================] - 2s 62us/step - loss: 0.3065 - acc: 0.8600 - val_loss: 0.3371 - val_acc: 0.8480\n",
      "Epoch 4/50\n",
      "26048/26048 [==============================] - 1s 53us/step - loss: 0.2994 - acc: 0.8628 - val_loss: 0.3377 - val_acc: 0.8474\n",
      "Epoch 5/50\n",
      "26048/26048 [==============================] - 2s 62us/step - loss: 0.2946 - acc: 0.8646 - val_loss: 0.3318 - val_acc: 0.8439\n",
      "Epoch 6/50\n",
      "26048/26048 [==============================] - 1s 44us/step - loss: 0.2870 - acc: 0.8679 - val_loss: 0.3340 - val_acc: 0.8457\n",
      "Epoch 7/50\n",
      "26048/26048 [==============================] - 1s 42us/step - loss: 0.2819 - acc: 0.8695 - val_loss: 0.3378 - val_acc: 0.8434\n",
      "Epoch 8/50\n",
      "26048/26048 [==============================] - 1s 44us/step - loss: 0.2761 - acc: 0.8714 - val_loss: 0.3413 - val_acc: 0.8448\n",
      "Epoch 9/50\n",
      "26048/26048 [==============================] - 1s 47us/step - loss: 0.2696 - acc: 0.8761 - val_loss: 0.3455 - val_acc: 0.8414\n",
      "Epoch 10/50\n",
      "26048/26048 [==============================] - 1s 51us/step - loss: 0.2637 - acc: 0.8795 - val_loss: 0.3524 - val_acc: 0.8386\n",
      "Epoch 11/50\n",
      "26048/26048 [==============================] - 1s 52us/step - loss: 0.2577 - acc: 0.8790 - val_loss: 0.3630 - val_acc: 0.8454\n",
      "Epoch 12/50\n",
      "26048/26048 [==============================] - 1s 52us/step - loss: 0.2504 - acc: 0.8828 - val_loss: 0.3695 - val_acc: 0.8405\n",
      "Epoch 13/50\n",
      "26048/26048 [==============================] - 1s 55us/step - loss: 0.2438 - acc: 0.8864 - val_loss: 0.3701 - val_acc: 0.8394\n",
      "Epoch 14/50\n",
      "26048/26048 [==============================] - 1s 53us/step - loss: 0.2372 - acc: 0.8890 - val_loss: 0.3807 - val_acc: 0.8415\n",
      "Epoch 15/50\n",
      "26048/26048 [==============================] - 1s 52us/step - loss: 0.2300 - acc: 0.8934 - val_loss: 0.3911 - val_acc: 0.8371\n",
      "Epoch 16/50\n",
      "26048/26048 [==============================] - 1s 52us/step - loss: 0.2249 - acc: 0.8924 - val_loss: 0.4007 - val_acc: 0.8389\n",
      "Epoch 17/50\n",
      "26048/26048 [==============================] - 1s 52us/step - loss: 0.2199 - acc: 0.8958 - val_loss: 0.4142 - val_acc: 0.8411\n",
      "Epoch 18/50\n",
      "26048/26048 [==============================] - 1s 54us/step - loss: 0.2151 - acc: 0.8972 - val_loss: 0.4275 - val_acc: 0.8369\n",
      "Epoch 19/50\n",
      "26048/26048 [==============================] - 1s 53us/step - loss: 0.2090 - acc: 0.8987 - val_loss: 0.4181 - val_acc: 0.8345\n",
      "Epoch 20/50\n",
      "26048/26048 [==============================] - 1s 51us/step - loss: 0.2042 - acc: 0.9011 - val_loss: 0.4353 - val_acc: 0.8374\n",
      "Epoch 21/50\n",
      "26048/26048 [==============================] - 1s 50us/step - loss: 0.1990 - acc: 0.9026 - val_loss: 0.4611 - val_acc: 0.8391\n",
      "Epoch 22/50\n",
      "26048/26048 [==============================] - 1s 54us/step - loss: 0.1936 - acc: 0.9065 - val_loss: 0.4470 - val_acc: 0.8356\n",
      "Epoch 23/50\n",
      "26048/26048 [==============================] - 1s 51us/step - loss: 0.1912 - acc: 0.9059 - val_loss: 0.4726 - val_acc: 0.8376\n",
      "Epoch 24/50\n",
      "26048/26048 [==============================] - 1s 54us/step - loss: 0.1873 - acc: 0.9091 - val_loss: 0.4743 - val_acc: 0.8359\n",
      "Epoch 25/50\n",
      "26048/26048 [==============================] - 1s 54us/step - loss: 0.1845 - acc: 0.9087 - val_loss: 0.4773 - val_acc: 0.8334\n",
      "Epoch 26/50\n",
      "26048/26048 [==============================] - 1s 52us/step - loss: 0.1801 - acc: 0.9099 - val_loss: 0.4841 - val_acc: 0.8333\n",
      "Epoch 27/50\n",
      "26048/26048 [==============================] - 1s 53us/step - loss: 0.1745 - acc: 0.9132 - val_loss: 0.5130 - val_acc: 0.8353\n",
      "Epoch 28/50\n",
      "26048/26048 [==============================] - 1s 52us/step - loss: 0.1741 - acc: 0.9122 - val_loss: 0.4999 - val_acc: 0.8386\n",
      "Epoch 29/50\n",
      "26048/26048 [==============================] - 1s 53us/step - loss: 0.1719 - acc: 0.9127 - val_loss: 0.5094 - val_acc: 0.8299\n",
      "Epoch 30/50\n",
      "26048/26048 [==============================] - 1s 50us/step - loss: 0.1659 - acc: 0.9139 - val_loss: 0.5401 - val_acc: 0.8360\n",
      "Epoch 31/50\n",
      "26048/26048 [==============================] - 1s 52us/step - loss: 0.1639 - acc: 0.9149 - val_loss: 0.5226 - val_acc: 0.8287\n",
      "Epoch 32/50\n",
      "26048/26048 [==============================] - 1s 52us/step - loss: 0.1625 - acc: 0.9142 - val_loss: 0.5277 - val_acc: 0.8293\n",
      "Epoch 33/50\n",
      "26048/26048 [==============================] - 1s 52us/step - loss: 0.1622 - acc: 0.9160 - val_loss: 0.5331 - val_acc: 0.8329\n",
      "Epoch 34/50\n",
      "26048/26048 [==============================] - 1s 53us/step - loss: 0.1552 - acc: 0.9170 - val_loss: 0.5903 - val_acc: 0.8334\n",
      "Epoch 35/50\n",
      "26048/26048 [==============================] - 1s 52us/step - loss: 0.1535 - acc: 0.9167 - val_loss: 0.5396 - val_acc: 0.8323\n",
      "Epoch 36/50\n",
      "26048/26048 [==============================] - 1s 53us/step - loss: 0.1503 - acc: 0.9183 - val_loss: 0.5477 - val_acc: 0.8268\n",
      "Epoch 37/50\n",
      "26048/26048 [==============================] - 1s 51us/step - loss: 0.1499 - acc: 0.9168 - val_loss: 0.5771 - val_acc: 0.8343\n",
      "Epoch 38/50\n",
      "26048/26048 [==============================] - 1s 52us/step - loss: 0.1476 - acc: 0.9183 - val_loss: 0.5694 - val_acc: 0.8291\n",
      "Epoch 39/50\n",
      "26048/26048 [==============================] - 1s 51us/step - loss: 0.1424 - acc: 0.9196 - val_loss: 0.5850 - val_acc: 0.8314\n",
      "Epoch 40/50\n",
      "26048/26048 [==============================] - 1s 55us/step - loss: 0.1401 - acc: 0.9193 - val_loss: 0.5628 - val_acc: 0.8276\n",
      "Epoch 41/50\n",
      "26048/26048 [==============================] - 1s 52us/step - loss: 0.1394 - acc: 0.9190 - val_loss: 0.5750 - val_acc: 0.8299\n",
      "Epoch 42/50\n",
      "26048/26048 [==============================] - 1s 52us/step - loss: 0.1362 - acc: 0.9208 - val_loss: 0.5940 - val_acc: 0.8300\n",
      "Epoch 43/50\n",
      "26048/26048 [==============================] - 1s 55us/step - loss: 0.1359 - acc: 0.9200 - val_loss: 0.6055 - val_acc: 0.8333\n",
      "Epoch 44/50\n",
      "26048/26048 [==============================] - 1s 52us/step - loss: 0.1305 - acc: 0.9206 - val_loss: 0.5990 - val_acc: 0.8294\n",
      "Epoch 45/50\n",
      "26048/26048 [==============================] - 1s 55us/step - loss: 0.1289 - acc: 0.9203 - val_loss: 0.5897 - val_acc: 0.8288\n",
      "Epoch 46/50\n",
      "26048/26048 [==============================] - 1s 53us/step - loss: 0.1262 - acc: 0.9201 - val_loss: 0.6068 - val_acc: 0.8299\n",
      "Epoch 47/50\n",
      "26048/26048 [==============================] - 1s 50us/step - loss: 0.1239 - acc: 0.9210 - val_loss: 0.6036 - val_acc: 0.8310\n",
      "Epoch 48/50\n",
      "26048/26048 [==============================] - 1s 53us/step - loss: 0.1237 - acc: 0.9213 - val_loss: 0.5989 - val_acc: 0.8274\n",
      "Epoch 49/50\n",
      "26048/26048 [==============================] - 1s 53us/step - loss: 0.1184 - acc: 0.9228 - val_loss: 0.5913 - val_acc: 0.8302\n",
      "Epoch 50/50\n",
      "26048/26048 [==============================] - 1s 52us/step - loss: 0.1183 - acc: 0.9220 - val_loss: 0.6130 - val_acc: 0.8270\n"
     ]
    }
   ],
   "source": [
    "alpha=0.01\n",
    "g=Classifier_with_regularizer(x_train,y_train,x_val, y_val,reguralizer, batch_size=32, epochs=50, verbose=1)"
   ]
  },
  {
   "cell_type": "markdown",
   "metadata": {},
   "source": [
    " Test classifier of Y"
   ]
  },
  {
   "cell_type": "code",
   "execution_count": 62,
   "metadata": {},
   "outputs": [
    {
     "name": "stdout",
     "output_type": "stream",
     "text": [
      "16281/16281 [==============================] - 0s 19us/step\n",
      "\n",
      "acc: 82.65%\n"
     ]
    }
   ],
   "source": [
    "test_scores=g.evaluate(Test_preprocess,y_test)\n",
    "print(\"\\n%s: %.2f%%\" % (g.metrics_names[1], test_scores[1]*100))"
   ]
  },
  {
   "cell_type": "markdown",
   "metadata": {},
   "source": [
    "- Prediction of A"
   ]
  },
  {
   "cell_type": "markdown",
   "metadata": {},
   "source": [
    " Training and evaluation"
   ]
  },
  {
   "cell_type": "code",
   "execution_count": 63,
   "metadata": {},
   "outputs": [
    {
     "name": "stdout",
     "output_type": "stream",
     "text": [
      "Train on 26048 samples, validate on 6513 samples\n",
      "Epoch 1/50\n",
      "26048/26048 [==============================] - 1s 47us/step - loss: 0.1324 - acc: 0.9501 - val_loss: 0.0312 - val_acc: 0.9932\n",
      "Epoch 2/50\n",
      "26048/26048 [==============================] - 2s 62us/step - loss: 0.0164 - acc: 0.9973 - val_loss: 0.0167 - val_acc: 0.9971\n",
      "Epoch 3/50\n",
      "26048/26048 [==============================] - 1s 50us/step - loss: 0.0099 - acc: 0.9981 - val_loss: 0.0048 - val_acc: 0.9980\n",
      "Epoch 4/50\n",
      "26048/26048 [==============================] - 1s 57us/step - loss: 0.0051 - acc: 0.9990 - val_loss: 0.0171 - val_acc: 0.9979\n",
      "Epoch 5/50\n",
      "26048/26048 [==============================] - 1s 50us/step - loss: 0.0076 - acc: 0.9987 - val_loss: 0.0196 - val_acc: 0.9977\n",
      "Epoch 6/50\n",
      "26048/26048 [==============================] - 1s 49us/step - loss: 0.0057 - acc: 0.9994 - val_loss: 0.0079 - val_acc: 0.9986\n",
      "Epoch 7/50\n",
      "26048/26048 [==============================] - 1s 52us/step - loss: 0.0043 - acc: 0.9994 - val_loss: 0.0069 - val_acc: 0.9988\n",
      "Epoch 8/50\n",
      "26048/26048 [==============================] - 2s 60us/step - loss: 0.0035 - acc: 0.9995 - val_loss: 0.0055 - val_acc: 0.9994\n",
      "Epoch 9/50\n",
      "26048/26048 [==============================] - 1s 56us/step - loss: 0.0025 - acc: 0.9996 - val_loss: 0.0057 - val_acc: 0.9995\n",
      "Epoch 10/50\n",
      "26048/26048 [==============================] - 2s 60us/step - loss: 0.0038 - acc: 0.9995 - val_loss: 0.0052 - val_acc: 0.9994\n",
      "Epoch 11/50\n",
      "26048/26048 [==============================] - 1s 56us/step - loss: 0.0021 - acc: 0.9997 - val_loss: 0.0055 - val_acc: 0.9992\n",
      "Epoch 12/50\n",
      "26048/26048 [==============================] - 2s 64us/step - loss: 0.0022 - acc: 0.9996 - val_loss: 0.0061 - val_acc: 0.9992\n",
      "Epoch 13/50\n",
      "26048/26048 [==============================] - 1s 53us/step - loss: 0.0024 - acc: 0.9995 - val_loss: 0.0058 - val_acc: 0.9991\n",
      "Epoch 14/50\n",
      "26048/26048 [==============================] - 1s 55us/step - loss: 0.0020 - acc: 0.9997 - val_loss: 0.0045 - val_acc: 0.9995\n",
      "Epoch 15/50\n",
      "26048/26048 [==============================] - 2s 60us/step - loss: 3.2534e-04 - acc: 0.9999 - val_loss: 0.0039 - val_acc: 0.9997\n",
      "Epoch 16/50\n",
      "26048/26048 [==============================] - 1s 56us/step - loss: -2.2544e-05 - acc: 0.9999 - val_loss: 0.0035 - val_acc: 0.9997\n",
      "Epoch 17/50\n",
      "26048/26048 [==============================] - 1s 54us/step - loss: -4.7144e-04 - acc: 0.9999 - val_loss: 0.0030 - val_acc: 0.9997\n",
      "Epoch 18/50\n",
      "26048/26048 [==============================] - 1s 56us/step - loss: -0.0011 - acc: 0.9999 - val_loss: 0.0023 - val_acc: 0.9997\n",
      "Epoch 19/50\n",
      "26048/26048 [==============================] - 1s 54us/step - loss: -0.0018 - acc: 0.9999 - val_loss: 0.0015 - val_acc: 0.9997\n",
      "Epoch 20/50\n",
      "26048/26048 [==============================] - 1s 55us/step - loss: -0.0028 - acc: 0.9999 - val_loss: 7.1436e-04 - val_acc: 0.9995\n",
      "Epoch 21/50\n",
      "26048/26048 [==============================] - 1s 52us/step - loss: -7.0839e-04 - acc: 0.9994 - val_loss: 9.4594e-04 - val_acc: 0.9991\n",
      "Epoch 22/50\n",
      "26048/26048 [==============================] - 1s 54us/step - loss: -0.0032 - acc: 0.9996 - val_loss: 5.4408e-04 - val_acc: 0.9992\n",
      "Epoch 23/50\n",
      "26048/26048 [==============================] - 1s 54us/step - loss: -0.0057 - acc: 0.9998 - val_loss: -0.0036 - val_acc: 0.9995\n",
      "Epoch 24/50\n",
      "26048/26048 [==============================] - 1s 53us/step - loss: -0.0083 - acc: 0.9999 - val_loss: -0.0054 - val_acc: 0.9994\n",
      "Epoch 25/50\n",
      "26048/26048 [==============================] - 1s 53us/step - loss: -0.0108 - acc: 0.9999 - val_loss: -0.0075 - val_acc: 0.9994\n",
      "Epoch 26/50\n",
      "26048/26048 [==============================] - 1s 53us/step - loss: -0.0131 - acc: 0.9999 - val_loss: -0.0099 - val_acc: 0.9994\n",
      "Epoch 27/50\n",
      "26048/26048 [==============================] - 1s 56us/step - loss: -0.0156 - acc: 0.9999 - val_loss: -0.0124 - val_acc: 0.9994\n",
      "Epoch 28/50\n",
      "26048/26048 [==============================] - 1s 56us/step - loss: -0.0183 - acc: 0.9999 - val_loss: -0.0152 - val_acc: 0.9995\n",
      "Epoch 29/50\n",
      "26048/26048 [==============================] - 1s 54us/step - loss: -0.0212 - acc: 0.9999 - val_loss: -0.0182 - val_acc: 0.9992\n",
      "Epoch 30/50\n",
      "26048/26048 [==============================] - 1s 56us/step - loss: -0.0231 - acc: 0.9996 - val_loss: -0.0207 - val_acc: 0.9991\n",
      "Epoch 31/50\n",
      "26048/26048 [==============================] - 1s 52us/step - loss: -0.0269 - acc: 0.9998 - val_loss: -0.0239 - val_acc: 0.9992\n",
      "Epoch 32/50\n",
      "26048/26048 [==============================] - 1s 56us/step - loss: -0.0303 - acc: 0.9998 - val_loss: -0.0286 - val_acc: 0.9994\n",
      "Epoch 33/50\n",
      "26048/26048 [==============================] - 1s 54us/step - loss: -0.0345 - acc: 0.9999 - val_loss: -0.0321 - val_acc: 0.9994\n",
      "Epoch 34/50\n",
      "26048/26048 [==============================] - 1s 55us/step - loss: -0.0382 - acc: 0.9999 - val_loss: -0.0359 - val_acc: 0.9994\n",
      "Epoch 35/50\n",
      "26048/26048 [==============================] - 2s 63us/step - loss: -0.0420 - acc: 0.9999 - val_loss: -0.0396 - val_acc: 0.9995\n",
      "Epoch 36/50\n",
      "26048/26048 [==============================] - 2s 60us/step - loss: -0.0448 - acc: 0.9998 - val_loss: -0.0437 - val_acc: 0.9994\n",
      "Epoch 37/50\n",
      "26048/26048 [==============================] - 1s 52us/step - loss: -0.0498 - acc: 0.9999 - val_loss: -0.0475 - val_acc: 0.9995\n",
      "Epoch 38/50\n",
      "26048/26048 [==============================] - 1s 53us/step - loss: -0.0539 - acc: 0.9999 - val_loss: -0.0521 - val_acc: 0.9997\n",
      "Epoch 39/50\n",
      "26048/26048 [==============================] - 1s 53us/step - loss: -0.0581 - acc: 0.9999 - val_loss: -0.0562 - val_acc: 0.9995\n",
      "Epoch 40/50\n",
      "26048/26048 [==============================] - 1s 55us/step - loss: -0.0624 - acc: 0.9999 - val_loss: -0.0605 - val_acc: 0.9995\n",
      "Epoch 41/50\n",
      "26048/26048 [==============================] - 1s 53us/step - loss: -0.0667 - acc: 0.9999 - val_loss: -0.0642 - val_acc: 0.9992\n",
      "Epoch 42/50\n",
      "26048/26048 [==============================] - 1s 55us/step - loss: -0.0713 - acc: 0.9999 - val_loss: -0.0692 - val_acc: 0.9994\n",
      "Epoch 43/50\n",
      "26048/26048 [==============================] - 1s 55us/step - loss: -0.0758 - acc: 0.9999 - val_loss: -0.0736 - val_acc: 0.9994\n",
      "Epoch 44/50\n",
      "26048/26048 [==============================] - 1s 53us/step - loss: -0.0805 - acc: 0.9999 - val_loss: -0.0781 - val_acc: 0.9994\n",
      "Epoch 45/50\n",
      "26048/26048 [==============================] - 1s 53us/step - loss: -0.0842 - acc: 0.9997 - val_loss: -0.0791 - val_acc: 0.9988\n",
      "Epoch 46/50\n",
      "26048/26048 [==============================] - 1s 55us/step - loss: -0.0891 - acc: 0.9998 - val_loss: -0.0870 - val_acc: 0.9991\n",
      "Epoch 47/50\n",
      "26048/26048 [==============================] - 1s 54us/step - loss: -0.0947 - acc: 0.9999 - val_loss: -0.0918 - val_acc: 0.9991\n",
      "Epoch 48/50\n",
      "26048/26048 [==============================] - 2s 59us/step - loss: -0.0996 - acc: 0.9999 - val_loss: -0.0966 - val_acc: 0.9991\n",
      "Epoch 49/50\n",
      "26048/26048 [==============================] - 2s 59us/step - loss: -0.1045 - acc: 0.9999 - val_loss: -0.1013 - val_acc: 0.9991\n",
      "Epoch 50/50\n",
      "26048/26048 [==============================] - 1s 56us/step - loss: -0.1095 - acc: 0.9999 - val_loss: -0.1061 - val_acc: 0.9991\n"
     ]
    }
   ],
   "source": [
    "h=Classifier_with_regularizer(x_train_A,A_train,x_val_A,A_val,reguralizer, batch_size=32, epochs=50, verbose=1)"
   ]
  },
  {
   "cell_type": "markdown",
   "metadata": {},
   "source": [
    " Test the classifier that the prdictions A"
   ]
  },
  {
   "cell_type": "code",
   "execution_count": 64,
   "metadata": {},
   "outputs": [
    {
     "name": "stdout",
     "output_type": "stream",
     "text": [
      "16281/16281 [==============================] - 0s 18us/step\n",
      "\n",
      "acc: 99.93%\n"
     ]
    }
   ],
   "source": [
    "#Classifier_with_regularizer(x_train_A,A_train,Test_preprocess,A_test,reguralizer, batch_size=32, epochs=50, verbose=1)\n",
    "test_scoresA=h.evaluate(Test_preprocess,A_test)\n",
    "print(\"\\n%s: %.2f%%\" % (g.metrics_names[1], test_scoresA[1]*100))\n"
   ]
  },
  {
   "cell_type": "markdown",
   "metadata": {},
   "source": [
    "- Performance for range values of the hyperparameter alpha"
   ]
  },
  {
   "cell_type": "code",
   "execution_count": 65,
   "metadata": {},
   "outputs": [],
   "source": [
    "# y_hat_list = y_hat_mmd.tolist()\n",
    "# for i in range(len(y_hat_mmd)):\n",
    "#     y_hat_list[i] = y_hat_list[i][0]\n",
    "# y_test_list = []\n",
    "# for i in range(len(y_test)):\n",
    "#     y_test_list.append(y_test[i][0])"
   ]
  },
  {
   "cell_type": "code",
   "execution_count": 66,
   "metadata": {},
   "outputs": [],
   "source": [
    "# y_test.flatten()"
   ]
  },
  {
   "cell_type": "code",
   "execution_count": 67,
   "metadata": {},
   "outputs": [
    {
     "name": "stdout",
     "output_type": "stream",
     "text": [
      "model for alpha ==  1\n",
      "====\t %%% Now lets fit the classifier G , that predict Y %%%=====\n",
      "16281/16281 [==============================] - 0s 22us/step\n",
      "Test accuracy for Y: 0.8345310484284477\n",
      "deltaDP for Y [0.17589769]\n",
      "============================================================\n",
      "====\t %%% Now lets fit the classifier H , that predict A %%%=====\n",
      "16281/16281 [==============================] - 0s 30us/step\n",
      "Test accuracy for A: 0.9988329955162459\n",
      "reweighted accuracy for A 0.4942449355432781\n",
      "============================================================\n",
      "model for alpha ==  0.1\n",
      "====\t %%% Now lets fit the classifier G , that predict Y %%%=====\n",
      "16281/16281 [==============================] - 0s 23us/step\n",
      "Test accuracy for Y: 0.8382163258041417\n",
      "deltaDP for Y [0.18238724]\n",
      "============================================================\n",
      "====\t %%% Now lets fit the classifier H , that predict A %%%=====\n",
      "16281/16281 [==============================] - 0s 20us/step\n",
      "Test accuracy for A: 0.9972360420121614\n",
      "reweighted accuracy for A 0.47191528545119704\n",
      "============================================================\n",
      "model for alpha ==  0.01\n",
      "====\t %%% Now lets fit the classifier G , that predict Y %%%=====\n",
      "16281/16281 [==============================] - 0s 20us/step\n",
      "Test accuracy for Y: 0.8350838400845914\n",
      "deltaDP for Y [0.18645182]\n",
      "============================================================\n",
      "====\t %%% Now lets fit the classifier H , that predict A %%%=====\n",
      "16281/16281 [==============================] - 0s 21us/step\n",
      "Test accuracy for A: 0.9984644677845341\n",
      "reweighted accuracy for A 0.44963167587476977\n",
      "============================================================\n",
      "model for alpha ==  0.001\n",
      "====\t %%% Now lets fit the classifier G , that predict Y %%%=====\n",
      "16281/16281 [==============================] - 0s 21us/step\n",
      "Test accuracy for Y: 0.8355752103605916\n",
      "deltaDP for Y [0.16880998]\n",
      "============================================================\n",
      "====\t %%% Now lets fit the classifier H , that predict A %%%=====\n",
      "16281/16281 [==============================] - 0s 21us/step\n",
      "Test accuracy for A: 0.9989558380934832\n",
      "reweighted accuracy for A 0.33950276243093924\n",
      "============================================================\n",
      "model for alpha ==  0.0001\n",
      "====\t %%% Now lets fit the classifier G , that predict Y %%%=====\n",
      "16281/16281 [==============================] - 0s 20us/step\n",
      "Test accuracy for Y: 0.8345310484870236\n",
      "deltaDP for Y [0.18988955]\n",
      "============================================================\n",
      "====\t %%% Now lets fit the classifier H , that predict A %%%=====\n",
      "16281/16281 [==============================] - 0s 21us/step\n",
      "Test accuracy for A: 0.9989558380934832\n",
      "reweighted accuracy for A 0.3404696132596685\n",
      "============================================================\n"
     ]
    }
   ],
   "source": [
    "alpha = [1, 0.1, 0.01, 0.001, 0.0001]\n",
    "accuracy = []\n",
    "delta_DP = []\n",
    "accuracy_A = []\n",
    "reweighted_acc = []\n",
    "for a in alpha:\n",
    "    print('model for alpha == ', a)\n",
    "    def l1_reg(a):\n",
    "         return a * mmd_value.item()\n",
    "    print(\"====\\t %%% Now lets fit the classifier G , that predict Y %%%=====\")\n",
    "    # Build neural network\n",
    "    classifierG = Classifier_with_regularizer(x_train, y_train, x_val, y_val, l1_reg, batch_size=16, epochs= 30, verbose=0)\n",
    "    score = classifierG.evaluate(Test_preprocess,y_test.flatten())\n",
    "    accuracy.append(score[1])\n",
    "    print('Test accuracy for Y:', score[1])\n",
    "    y_hat_mmd = classifierG.predict(Test_preprocess)\n",
    "    delta_DP.append(DP(A_test,y_hat_mmd))\n",
    "    print('deltaDP for Y', DP(A_test,y_hat_mmd))\n",
    "    print('=='*30)\n",
    "    \n",
    "    print(\"====\\t %%% Now lets fit the classifier H , that predict A %%%=====\")\n",
    "    classifierH = Classifier_with_regularizer(x_train_A, A_train, x_val_A, A_val, l1_reg, batch_size=16, epochs= 30, verbose=0)\n",
    "    scoreA = classifierH.evaluate(Test_preprocess,A_test)\n",
    "    accuracy_A.append(scoreA[1])\n",
    "    print('Test accuracy for A:', scoreA[1])\n",
    "    A_hat_mmd = classifierH.predict(Test_preprocess)\n",
    "    reweighted_acc.append(reweighted_accuracy(A_test, A_test,A_hat_mmd))\n",
    "    print('reweighted accuracy for A', reweighted_accuracy(A_test, A_test,A_hat_mmd))\n",
    "    print('=='*30)"
   ]
  },
  {
   "cell_type": "markdown",
   "metadata": {},
   "source": [
    "- Plot the values of accuracy and Delta_DP for prediction of Y"
   ]
  },
  {
   "cell_type": "code",
   "execution_count": 68,
   "metadata": {},
   "outputs": [
    {
     "data": {
      "image/png": "[encoded data removed]",
      "text/plain": [
       "<Figure size 432x288 with 1 Axes>"
      ]
     },
     "metadata": {},
     "output_type": "display_data"
    }
   ],
   "source": [
    "n_hyperparameters=5\n",
    "#Plotting\n",
    "fix,ax=plt.subplots()\n",
    "index=np.arange(n_hyperparameters)\n",
    "bar_width=0.35\n",
    "opacity=0.8\n",
    "\n",
    "rect1=plt.bar(index,accuracy,bar_width,alpha=opacity,color='blue',label=\"Accuracy\")\n",
    "rect2=plt.bar(index+bar_width,reweighted_acc,bar_width,alpha=opacity,color='red',label=\"DP\")\n",
    "plt.xlabel(\"Hyperparameter alpha\")\n",
    "plt.ylabel(\"performances\")\n",
    "plt.title(\"Accuraacy and Delta_DP against values of alpha\")\n",
    "plt.xticks(index+bar_width,(\"1\",\"0.1\",\"0.01\",\"0.001\",\"0.0001\"))\n",
    "plt.legend()\n",
    "plt.savefig('Accuracy&Delta_DP_alpha_range_good.png', dpi=500)\n",
    "plt.show()"
   ]
  },
  {
   "cell_type": "markdown",
   "metadata": {},
   "source": [
    "- Plot accury and weighted accuracy for prediction of A"
   ]
  },
  {
   "cell_type": "code",
   "execution_count": 69,
   "metadata": {},
   "outputs": [
    {
     "data": {
      "image/png": "[encoded data removed]",
      "text/plain": [
       "<Figure size 432x288 with 1 Axes>"
      ]
     },
     "metadata": {},
     "output_type": "display_data"
    }
   ],
   "source": [
    "n_hyperparameters=5\n",
    "#Plotting\n",
    "fix,ax=plt.subplots()\n",
    "index=np.arange(n_hyperparameters)\n",
    "bar_width=0.35\n",
    "opacity=0.8\n",
    "\n",
    "rect1=plt.bar(index,accuracy_A,bar_width,alpha=opacity,color='blue',label=\"Accuracy\")\n",
    "rect2=plt.bar(index+bar_width,reweighted_acc,bar_width,alpha=opacity,color='green',label=\"reweighted acuracy\")\n",
    "plt.xlabel(\"Hyperparameter alpha\")\n",
    "plt.ylabel(\"performances\")\n",
    "plt.title(\"Accuraacy and reweighted acuracy against values of alpha\")\n",
    "plt.xticks(index+bar_width,(\"1\",\"0.1\",\"0.001\",\"0.0001\",\"0.00001\"))\n",
    "plt.legend()\n",
    "plt.savefig('Accuracy&weighted_acc_alpha_range_good.png', dpi=500)\n",
    "plt.show()"
   ]
  },
  {
   "cell_type": "code",
   "execution_count": null,
   "metadata": {},
   "outputs": [],
   "source": []
  }
 ],
 "metadata": {
  "kernelspec": {
   "display_name": "Python 3",
   "language": "python",
   "name": "python3"
  },
  "language_info": {
   "codemirror_mode": {
    "name": "ipython",
    "version": 3
   },
   "file_extension": ".py",
   "mimetype": "text/x-python",
   "name": "python",
   "nbconvert_exporter": "python",
   "pygments_lexer": "ipython3",
   "version": "3.6.5"
  }
 },
 "nbformat": 4,
 "nbformat_minor": 2
}
